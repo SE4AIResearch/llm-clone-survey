{
 "cells": [
  {
   "cell_type": "markdown",
   "source": [
    "# Fixing the ACL data\n",
    "The ACL data has extraneous double quotes that need to be fixed. \n",
    "This script will fix the issues and save the fixed data to a new file."
   ],
   "metadata": {
    "collapsed": false
   },
   "id": "50359a8343a12795"
  },
  {
   "cell_type": "code",
   "outputs": [],
   "source": [
    "from pathlib import Path\n",
    "import pandas as pd\n",
    "RESULTS_FOLDER = Path(\"../results/\")\n",
    "\n",
    "# load the data frames\n",
    "df_acl = pd.read_csv(RESULTS_FOLDER / 'ACL_2024-07-02.csv')\n",
    "\n",
    "\n",
    "# add or rename URL column and make other data fixes\n",
    "df_acl.fillna(\"\", inplace=True)\n",
    "df_acl['doi'] = df_acl['doi'].astype(str)\n",
    "\n",
    "df_acl['url'] = df_acl['url'].apply(lambda x: x.replace('\"', \"\").strip())\n",
    "df_acl['title'] = df_acl['title'].apply(lambda x: x.replace('\"', \"\").strip())\n",
    "df_acl['doi'] = df_acl['doi'].apply(lambda x: x.replace('\"', \"\").strip())\n",
    "df_acl\n",
    "df_acl.to_csv(RESULTS_FOLDER /\"ACL_2024-07-02-Fixed.csv\", index=False)"
   ],
   "metadata": {
    "collapsed": true
   },
   "id": "initial_id",
   "execution_count": 0
  },
  {
   "cell_type": "markdown",
   "source": [
    "# Fix Springer data\n",
    "It adds an abstract if possible"
   ],
   "metadata": {
    "collapsed": false
   },
   "id": "ac963a71c2e968c"
  },
  {
   "cell_type": "code",
   "outputs": [],
   "source": [
    "from pathlib import Path\n",
    "import pandas as pd\n",
    "from utils import doi_to_abstract\n",
    "\n",
    "RESULTS_FOLDER = Path(\"../results/\")\n",
    "df_springer = pd.read_csv(RESULTS_FOLDER / 'springer_2024-06-26_14-45-54.csv')\n",
    "df_springer['DOI'] = df_springer['DOI'].astype(str)\n",
    "df_springer['abstract'] = df_springer['DOI'].apply(lambda x: doi_to_abstract(str(x)))\n",
    "df_springer.to_csv(RESULTS_FOLDER /'springer_2024-06-26_14-45-54-Fixed.csv', index=False)"
   ],
   "metadata": {
    "collapsed": false,
    "ExecuteTime": {
     "end_time": "2024-07-02T18:31:16.498188Z",
     "start_time": "2024-07-02T18:30:27.383686Z"
    }
   },
   "id": "ccc17b4fd1804c06",
   "execution_count": 7
  },
  {
   "cell_type": "code",
   "outputs": [],
   "source": [
    "from pathlib import Path\n",
    "import pandas as pd\n",
    "from utils import doi_to_bibtex\n",
    "\n",
    "RESULTS_FOLDER = Path(\"../results/\")\n",
    "df_springer = pd.read_csv(RESULTS_FOLDER / 'springer_2024-06-26_14-45-54-Fixed.csv')\n",
    "\n",
    "df_springer['bibtex'] = df_springer['DOI'].apply(lambda x: doi_to_bibtex(str(x)))\n",
    "df_springer.to_csv(RESULTS_FOLDER /'springer_2024-06-26_14-45-54-Fixed2.csv', index=False)"
   ],
   "metadata": {
    "collapsed": false,
    "is_executing": true,
    "ExecuteTime": {
     "start_time": "2024-07-02T19:03:41.931114Z"
    }
   },
   "id": "3d4c6be37405a14a"
  }
 ],
 "metadata": {
  "kernelspec": {
   "display_name": "Python 3",
   "language": "python",
   "name": "python3"
  },
  "language_info": {
   "codemirror_mode": {
    "name": "ipython",
    "version": 2
   },
   "file_extension": ".py",
   "mimetype": "text/x-python",
   "name": "python",
   "nbconvert_exporter": "python",
   "pygments_lexer": "ipython2",
   "version": "2.7.6"
  }
 },
 "nbformat": 4,
 "nbformat_minor": 5
}
