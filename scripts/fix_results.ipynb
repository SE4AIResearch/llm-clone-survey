{
 "cells": [
  {
   "cell_type": "markdown",
   "source": [
    "# Fixing the ACL data\n",
    "The ACL data has extraneous double quotes that need to be fixed. \n",
    "This script will fix the issues and save the fixed data to a new file."
   ],
   "metadata": {
    "collapsed": false
   },
   "id": "50359a8343a12795"
  },
  {
   "cell_type": "code",
   "outputs": [],
   "source": [
    "from pathlib import Path\n",
    "import pandas as pd\n",
    "RESULTS_FOLDER = Path(\"../results/\")\n",
    "\n",
    "# load the data frames\n",
    "df_acl = pd.read_csv(RESULTS_FOLDER / 'ACL_2024-07-02.csv')\n",
    "\n",
    "\n",
    "# add or rename URL column and make other data fixes\n",
    "df_acl.fillna(\"\", inplace=True)\n",
    "df_acl['doi'] = df_acl['doi'].astype(str)\n",
    "\n",
    "df_acl['url'] = df_acl['url'].apply(lambda x: x.replace('\"', \"\").strip())\n",
    "df_acl['title'] = df_acl['title'].apply(lambda x: x.replace('\"', \"\").strip())\n",
    "df_acl['doi'] = df_acl['doi'].apply(lambda x: x.replace('\"', \"\").strip())\n",
    "df_acl\n",
    "df_acl.to_csv(RESULTS_FOLDER /\"ACL_2024-07-02-Fixed.csv\", index=False)"
   ],
   "metadata": {
    "collapsed": true
   },
   "id": "initial_id",
   "execution_count": 0
  },
  {
   "cell_type": "markdown",
   "source": [
    "# Fix Springer data\n",
    "It adds an abstract if possible"
   ],
   "metadata": {
    "collapsed": false
   },
   "id": "ac963a71c2e968c"
  },
  {
   "cell_type": "code",
   "outputs": [],
   "source": [
    "from pathlib import Path\n",
    "import pandas as pd\n",
    "from utils import doi_to_abstract, doi_to_bibtex\n",
    "\n",
    "RESULTS_FOLDER = Path(\"../results/\")\n",
    "df_springer = pd.read_csv(RESULTS_FOLDER / 'springer_2024-06-26_14-45-54.csv')\n",
    "df_springer['DOI'] = df_springer['DOI'].astype(str)\n",
    "df_springer['abstract'] = df_springer['DOI'].apply(lambda x: doi_to_abstract(str(x)))\n",
    "df_springer['bibtex'] = df_springer['DOI'].apply(lambda x: doi_to_bibtex(str(x)))\n",
    "df_springer.to_csv(RESULTS_FOLDER /'springer_2024-06-26_14-45-54-Fixed.csv', index=False)"
   ],
   "metadata": {
    "collapsed": false,
    "ExecuteTime": {
     "end_time": "2024-07-02T18:31:16.498188Z",
     "start_time": "2024-07-02T18:30:27.383686Z"
    }
   },
   "id": "ccc17b4fd1804c06",
   "execution_count": 7
  },
  {
   "cell_type": "markdown",
   "source": [
    "# Fix IEEE data to add bibtex\n"
   ],
   "metadata": {
    "collapsed": false
   },
   "id": "dbe073645212f66d"
  },
  {
   "cell_type": "code",
   "outputs": [],
   "source": [
    "from pathlib import Path\n",
    "import pandas as pd\n",
    "from utils import doi_to_abstract, doi_to_bibtex\n",
    "\n",
    "RESULTS_FOLDER = Path(\"../results/\")\n",
    "df_ieee = pd.read_csv(RESULTS_FOLDER / 'IEEE_export2024.06.26-16.05.03.csv')\n",
    "\n",
    "df_ieee['bibtex'] = df_ieee['DOI'].apply(lambda x: doi_to_bibtex(str(x)))\n",
    "df_ieee.to_csv(RESULTS_FOLDER /'IEEE_export2024.06.26-16.05.03-Fixed.csv', index=False)"
   ],
   "metadata": {
    "collapsed": false,
    "ExecuteTime": {
     "end_time": "2024-07-02T19:11:33.078732Z",
     "start_time": "2024-07-02T19:10:55.447063Z"
    }
   },
   "id": "66836ba52b11f040",
   "execution_count": 10
  },
  {
   "cell_type": "markdown",
   "source": [
    "# Fix Web of Science\n",
    "Add bibtex"
   ],
   "metadata": {
    "collapsed": false
   },
   "id": "ea3921919ce27d0b"
  },
  {
   "cell_type": "code",
   "outputs": [],
   "source": [
    "from pathlib import Path\n",
    "import pandas as pd\n",
    "from utils import doi_to_abstract, doi_to_bibtex\n",
    "\n",
    "RESULTS_FOLDER = Path(\"../results/\")\n",
    "df_web_of_science = pd.read_csv(RESULTS_FOLDER / 'webofscience_2024-06-26_16-57-54.csv')\n",
    "\n",
    "df_web_of_science['bibtex'] = df_web_of_science['DOI'].apply(lambda x: doi_to_bibtex(str(x)))\n",
    "df_web_of_science.to_csv(RESULTS_FOLDER /'webofscience_2024-06-26_16-57-54-Fixed.csv', index=False)"
   ],
   "metadata": {
    "collapsed": false,
    "ExecuteTime": {
     "end_time": "2024-07-02T19:24:43.843465Z",
     "start_time": "2024-07-02T19:24:10.183318Z"
    }
   },
   "id": "e239d206d971296d",
   "execution_count": 11
  }
 ],
 "metadata": {
  "kernelspec": {
   "display_name": "Python 3",
   "language": "python",
   "name": "python3"
  },
  "language_info": {
   "codemirror_mode": {
    "name": "ipython",
    "version": 2
   },
   "file_extension": ".py",
   "mimetype": "text/x-python",
   "name": "python",
   "nbconvert_exporter": "python",
   "pygments_lexer": "ipython2",
   "version": "2.7.6"
  }
 },
 "nbformat": 4,
 "nbformat_minor": 5
}
