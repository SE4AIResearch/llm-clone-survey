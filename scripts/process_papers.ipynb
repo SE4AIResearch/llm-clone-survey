{
 "cells": [
  {
   "cell_type": "markdown",
   "source": [
    "# Load the data and prepare it for further analysis\n",
    "Parse the CSV files within the ../results folder and load them into data frames.\n",
    "Preprocess the data frames by ensuring that all data frames have the following column names: \n",
    "- 'doi':\n",
    "- 'url':\n",
    "- 'title':\n",
    "- 'abstract': \n",
    "- 'bibtex':\n",
    "- 'source':\n",
    "- 'year':"
   ],
   "metadata": {
    "collapsed": false
   },
   "id": "6b38eb100b574ec6"
  },
  {
   "cell_type": "code",
   "outputs": [
    {
     "name": "stdout",
     "output_type": "stream",
     "text": [
      "ArXiv # papers: (162, 8)\n",
      "Springer # papers: (241, 12)\n",
      "IEEE # papers: (73, 32)\n",
      "ACM # papers: (1013, 28)\n",
      "Science Direct # papers: (387, 23)\n",
      "Web of Science # papers: (74, 76)\n",
      "ACL # papers: (79, 9)\n",
      "Scopus # papers: (193, 9)\n",
      "Total number of papers: 2222\n"
     ]
    }
   ],
   "source": [
    "from pathlib import Path\n",
    "import pandas as pd\n",
    "\n",
    "RESULTS_FOLDER = Path(\"../results/\")\n",
    " \n",
    "# load the data frames\n",
    "df_arxiv = pd.read_csv(RESULTS_FOLDER / 'arxiv_2024-06-26_14-50-21.csv')\n",
    "df_springer = pd.read_csv(RESULTS_FOLDER / 'springer_2024-06-26_14-45-54-Fixed.csv')\n",
    "df_ieee = pd.read_csv(RESULTS_FOLDER / 'IEEE_export2024.06.26-16.05.03-Fixed.csv')\n",
    "df_acm = pd.read_csv(RESULTS_FOLDER / 'acm_export2024.06.26-17.35.csv')\n",
    "df_science_direct = pd.read_csv(RESULTS_FOLDER / 'ScienceDirect_2024-06-26_17-18-04.csv')\n",
    "df_web_of_science = pd.read_csv(RESULTS_FOLDER / 'webofscience_2024-06-26_16-57-54-Fixed.csv')\n",
    "df_acl = pd.read_csv(RESULTS_FOLDER / 'ACL_2024-07-02-Fixed.csv')\n",
    "df_scopus = pd.read_csv(RESULTS_FOLDER / 'Scopus_2024-07-02.csv')\n",
    "\n",
    "# add source to all data frames\n",
    "df_arxiv['source'] = 'arxiv'\n",
    "df_springer['source'] = 'springer'\n",
    "df_ieee['source'] = 'ieee'\n",
    "df_acm['source'] = 'acm'\n",
    "df_science_direct['source'] = 'science_direct'\n",
    "df_web_of_science['source'] = 'web_of_science'\n",
    "df_acl['source'] = 'acl'\n",
    "df_scopus['source'] = 'scopus'\n",
    "\n",
    "# ensure all frames have a title\n",
    "df_ieee = df_ieee.rename(columns={'Document Title': 'title'})\n",
    "df_web_of_science = df_web_of_science.rename(columns={'Article Title': 'title'})\n",
    "\n",
    "# ensure all frames have a doi column and are of type string\n",
    "df_arxiv['doi'] = df_arxiv['doi'].fillna(\"\").astype(str)\n",
    "df_springer['doi'] = df_springer['DOI'].fillna(\"\").astype(str)\n",
    "df_ieee['doi'] = df_ieee['DOI'].fillna(\"\").astype(str)\n",
    "df_acm['doi'] = df_acm['doi'].fillna(\"\").astype(str)\n",
    "df_science_direct['doi'] = df_science_direct['doi'].fillna(\"\").astype(str)\n",
    "df_web_of_science['doi'] = df_web_of_science['DOI'].fillna(\"\").astype(str)\n",
    "df_acl['doi'] = df_acl['doi'].fillna(\"\").astype(str)\n",
    "df_scopus['doi'] = df_scopus['doi'].fillna(\"\").astype(str)\n",
    "\n",
    "\n",
    "# ensure all frames have a URL column \n",
    "df_springer['url'] = df_springer['link'].apply(lambda x: x if \"link.springer.com\" in x else \"https://link.springer.com\" + x)\n",
    "df_ieee = df_ieee.rename(columns={'PDF Link': 'url'})\n",
    "df_web_of_science = df_web_of_science.rename(columns={'DOI Link': 'url'})\n",
    "\n",
    "# ensure all frames have an abstract column\n",
    "df_ieee = df_ieee.rename(columns={'Abstract': 'abstract'})\n",
    "df_web_of_science = df_web_of_science.rename(columns={'Abstract': 'abstract'})\n",
    "\n",
    "# add year column to data frames if not present\n",
    "df_arxiv['year'] = df_arxiv['published'].apply(lambda x: x.split(\"-\")[0].strip())\n",
    "df_springer['year'] = df_springer['published'].apply(lambda x: x.split(\" \")[-1].strip())\n",
    "df_ieee['year'] = df_ieee['Publication Year'].apply(lambda x: str(x).strip())\n",
    "df_science_direct['year'] = df_science_direct['year'].astype(str)\n",
    "df_acm['year'] = df_acm['year'].astype(str)\n",
    "df_web_of_science['year'] = df_web_of_science['Publication Year'].apply(lambda x: str(x).strip())\n",
    "df_acl['year'] = df_acl['year'].astype(str) \n",
    "df_scopus['year'] = df_scopus['year'].astype(str)\n",
    "\n",
    "# print counts\n",
    "print(f\"ArXiv # papers: {df_arxiv.shape}\")\n",
    "print(f\"Springer # papers: {df_springer.shape}\")\n",
    "print(f\"IEEE # papers: {df_ieee.shape}\")\n",
    "print(f\"ACM # papers: {df_acm.shape}\")\n",
    "print(f\"Science Direct # papers: {df_science_direct.shape}\")\n",
    "print(f\"Web of Science # papers: {df_web_of_science.shape}\")\n",
    "print(f\"ACL # papers: {df_acl.shape}\")\n",
    "print(f\"Scopus # papers: {df_scopus.shape}\")\n",
    "\n",
    "# sum the number of papers\n",
    "total_papers = df_arxiv.shape[0] + df_springer.shape[0] + df_ieee.shape[0] + df_acm.shape[0] + df_science_direct.shape[0] + df_web_of_science.shape[0] + df_acl.shape[0] + df_scopus.shape[0]\n",
    "print(f\"Total number of papers: {total_papers}\")"
   ],
   "metadata": {
    "collapsed": false,
    "ExecuteTime": {
     "end_time": "2024-07-02T20:12:26.100730Z",
     "start_time": "2024-07-02T20:12:25.964426Z"
    }
   },
   "id": "da63359133c741ec",
   "execution_count": 67
  },
  {
   "cell_type": "markdown",
   "source": [
    "# Merge the data frames\n",
    "This will merge the data frames and remove duplicates.\n",
    "We will keep only the columns:\n",
    "- title\n",
    "- doi\n",
    "- year\n",
    "- source\n",
    "- url"
   ],
   "metadata": {
    "collapsed": false
   },
   "id": "531a13cd6b958c5d"
  },
  {
   "cell_type": "code",
   "outputs": [],
   "source": [
    "# compute subset of the data frames\n",
    "df_arxiv_subset = df_arxiv[['title', 'doi', 'year', 'source', 'url', 'bibtex']]\n",
    "df_springer_subset = df_springer[['title', 'doi', 'year', 'source', 'url', 'bibtex']]\n",
    "df_ieee_subset = df_ieee[['title', 'doi', 'year', 'source', 'url', 'bibtex']]\n",
    "df_acm_subset = df_acm[['title', 'doi', 'year', 'source', 'url', 'bibtex']]\n",
    "df_science_direct_subset = df_science_direct[['title', 'doi', 'year', 'source', 'url', 'bibtex']]\n",
    "df_web_of_science_subset = df_web_of_science[['title', 'doi', 'year', 'source', 'url', 'bibtex']]\n",
    "df_acl_subset = df_acl[['title', 'doi', 'year', 'source', 'url', 'bibtex']]\n",
    "df_scopus_subset = df_scopus[['title', 'doi', 'year', 'source', 'url', 'bibtex']]\n",
    "\n",
    "# merge the data frames\n",
    "df_merged_subset = pd.concat(\n",
    "    [df_arxiv_subset, df_springer_subset, df_ieee_subset, df_acm_subset, df_science_direct_subset,\n",
    "     df_web_of_science_subset, df_acl_subset, df_scopus_subset], ignore_index=True)\n",
    "\n",
    "# remove duplicates, but merge the source field to be a concatenation of the duplicated row values\n",
    "df_merged_subset = df_merged_subset.groupby('title').agg(\n",
    "    {'doi': 'first', 'year': 'first', 'source': ', '.join, 'url': 'first'}).reset_index()\n",
    "df_merged_subset = df_merged_subset.drop_duplicates(subset=['title'])\n",
    "# now by DOI\n",
    "df_merged_subset = df_merged_subset.groupby('doi').agg(\n",
    "    {'title': 'first', 'year': 'first', 'source': ', '.join, 'url': 'first'}).reset_index()\n",
    "df_merged_subset = df_merged_subset.drop_duplicates(subset=['doi'])\n",
    "\n",
    "\n",
    "\n",
    "# save to CSV starting index from 1\n",
    "df_merged_subset.index = range(1, len(df_merged_subset) + 1)\n",
    "# name the column index as id\n",
    "df_merged_subset.index.name = 'id'\n",
    "# create default values \n",
    "df_merged_subset['bibtex_id'] = None\n",
    "df_merged_subset['type'] = None\n",
    "df_merged_subset['is_relevant'] = None\n",
    "\n",
    "df_merged_subset = df_merged_subset[['title', 'bibtex_id', 'url', 'type', 'doi', 'is_relevant', 'source', 'year']]\n",
    "#                                     \n",
    "df_merged_subset.to_csv(\"../results/llm_education_survey_paper.csv\", index=True)\n",
    "\n",
    "df_merged_subset"
   ],
   "metadata": {
    "collapsed": false
   },
   "id": "9e92a4c931290c10",
   "execution_count": null
  },
  {
   "cell_type": "code",
   "outputs": [],
   "source": [
    "\n",
    "\n",
    "\n",
    "\n"
   ],
   "metadata": {
    "collapsed": false
   },
   "id": "e5203bf51e18b37",
   "execution_count": null
  },
  {
   "cell_type": "code",
   "outputs": [],
   "source": [],
   "metadata": {
    "collapsed": false
   },
   "id": "255c8d835ca5486"
  },
  {
   "cell_type": "markdown",
   "source": [
    "# Visualize results and raw data"
   ],
   "metadata": {
    "collapsed": false
   },
   "id": "89ceb83ea7c709f0"
  },
  {
   "cell_type": "markdown",
   "source": [
    "## Plot the distribution of papers per source"
   ],
   "metadata": {
    "collapsed": false
   },
   "id": "746bc83e1fd8cf58"
  },
  {
   "cell_type": "code",
   "outputs": [],
   "source": [
    "df_sources = pd.DataFrame({'source': ['arxiv', 'springer', 'ieee', 'acm', 'science_direct', 'web_of_science', 'acl', 'scopus'],\n",
    "                           'count': [df_arxiv.shape[0], df_springer.shape[0], df_ieee.shape[0], df_acm.shape[0], df_science_direct.shape[0], df_web_of_science.shape[0], df_acl.shape[0], df_scopus.shape[0]]})\n",
    "# sort the values\n",
    "df_sources = df_sources.sort_values(by='count', ascending=False)\n",
    "df_sources.plot(kind='bar', x='source', y='count', title='Number of papers per source', legend=False)"
   ],
   "metadata": {
    "collapsed": false
   },
   "id": "24186fccefd7f20a",
   "execution_count": null
  },
  {
   "cell_type": "markdown",
   "source": [
    "## Visualize the datasets (papers / year)"
   ],
   "metadata": {
    "collapsed": false
   },
   "id": "48f71df486482be1"
  },
  {
   "cell_type": "code",
   "outputs": [],
   "source": [
    "# count numbers of papers per year\n",
    "df_arxiv_year = df_arxiv.groupby('year').count()\n",
    "df_springer_year = df_springer.groupby('year').count()\n",
    "df_ieee_year = df_ieee.groupby('year').count()\n",
    "df_acm_year = df_acm.groupby('year').count()\n",
    "df_science_direct_year = df_science_direct.groupby('year').count()\n",
    "df_web_of_science_year = df_web_of_science.groupby('year').count()\n",
    "df_acl_year = df_acl.groupby('year').count()\n",
    "df_scopus_year = df_scopus.groupby('year').count()\n",
    "\n",
    "# remove unnecessary columns\n",
    "df_arxiv_year = df_arxiv_year[['title']]\n",
    "df_springer_year = df_springer_year[['title']]\n",
    "df_ieee_year = df_ieee_year[['Document Title']]\n",
    "df_acm_year = df_acm_year[['title']]\n",
    "df_acl_year = df_acl_year[['title']]\n",
    "df_scopus_year = df_scopus_year[['title']]\n",
    "df_science_direct_year = df_science_direct_year[['title']]\n",
    "df_web_of_science_year = df_web_of_science_year[['Article Title']]\n",
    "df_web_of_science_year = df_web_of_science_year.rename(columns={'Article Title': 'title'})\n",
    "df_ieee_year = df_ieee_year.rename(columns={'Document Title': 'title'})\n",
    "\n",
    "\n",
    "# merge the counts\n",
    "df_arxiv_year = df_arxiv_year.rename(columns={'title': 'arxiv'})\n",
    "df_springer_year = df_springer_year.rename(columns={'title': 'springer'})\n",
    "df_ieee_year = df_ieee_year.rename(columns={'title': 'ieee'})\n",
    "df_acm_year = df_acm_year.rename(columns={'title': 'acm'})\n",
    "df_science_direct_year = df_science_direct_year.rename(columns={'title': 'science_direct'})\n",
    "df_web_of_science_year = df_web_of_science_year.rename(columns={'title': 'web_of_science'})\n",
    "df_acl_year = df_acl_year.rename(columns={'title': 'acl'})\n",
    "df_scopus_year = df_scopus_year.rename(columns={'title': 'scopus'})\n",
    "\n",
    "df_merged = pd.concat([df_arxiv_year['arxiv'], df_springer_year['springer'], df_ieee_year['ieee'], df_acm_year['acm'],\n",
    "                       df_science_direct_year['science_direct'], df_web_of_science_year['web_of_science'],\n",
    "                       df_acl_year['acl'], df_scopus_year['scopus']],\n",
    "                      axis=1)\n",
    "df_merged = df_merged.fillna(0)\n",
    "df_merged = df_merged.astype(int)\n",
    "\n",
    "# sort the years\n",
    "df_merged = df_merged.sort_index()\n",
    "df_merged"
   ],
   "metadata": {
    "collapsed": false
   },
   "id": "2eac9db7635b2f72",
   "execution_count": null
  },
  {
   "cell_type": "code",
   "outputs": [],
   "source": [
    "# count the number of papers whose year >= N\n",
    "df_merged['total'] = df_merged['arxiv'] + df_merged['springer'] + df_merged['ieee'] + df_merged['acm'] + df_merged[\n",
    "    'science_direct'] + df_merged['web_of_science'] + df_merged['acl'] + df_merged['scopus']\n",
    "all = df_merged['total'].sum()\n",
    "cut_off_year = 2019\n",
    "after_cut_off_year = df_merged.loc[df_merged.index.astype(int) >= cut_off_year].sum()\n",
    "print(f\"Total number of papers: {all}\")\n",
    "print(f\"Number of papers after {cut_off_year}: {after_cut_off_year['total']}\")"
   ],
   "metadata": {
    "collapsed": true
   },
   "id": "initial_id",
   "execution_count": null
  },
  {
   "cell_type": "code",
   "outputs": [],
   "source": [
    "# exclude total column & plot\n",
    "df_merged.drop(columns=['total']).loc[df_merged.index.astype(int) >= 1].plot(kind='bar', figsize=(10, 5),\n",
    "                                                                             title='Number of papers per year')\n",
    "\n",
    "df_merged[['total']].loc[df_merged.index.astype(int) >= 1].plot(kind='bar', figsize=(10, 5),\n",
    "                                                                             title='Number of papers per year')"
   ],
   "metadata": {
    "collapsed": false
   },
   "id": "d1024809ac05a4f9",
   "execution_count": null
  },
  {
   "cell_type": "code",
   "outputs": [],
   "source": [
    "# find papers with the keyword 'survey' in the title (case-insensitive search)\n",
    "df_surveys = df_merged_subset[df_merged_subset['title'].str.contains('survey', case=False, na=False)]\n",
    "df_surveys"
   ],
   "metadata": {
    "collapsed": false
   },
   "id": "97c5382520740df9",
   "execution_count": null
  }
 ],
 "metadata": {
  "kernelspec": {
   "display_name": "Python 3",
   "language": "python",
   "name": "python3"
  },
  "language_info": {
   "codemirror_mode": {
    "name": "ipython",
    "version": 2
   },
   "file_extension": ".py",
   "mimetype": "text/x-python",
   "name": "python",
   "nbconvert_exporter": "python",
   "pygments_lexer": "ipython2",
   "version": "2.7.6"
  }
 },
 "nbformat": 4,
 "nbformat_minor": 5
}
