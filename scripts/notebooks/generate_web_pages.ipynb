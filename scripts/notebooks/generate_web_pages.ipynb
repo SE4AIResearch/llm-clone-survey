{
 "cells": [
  {
   "cell_type": "markdown",
   "source": [
    "# Generate Web Pages for the Survey Website\n",
    "This is a utility notebook to generate posts for each paper we studied. The posts are in markdown format and will be used to generate the website for the survey.\n"
   ],
   "metadata": {
    "collapsed": false
   },
   "id": "112f83740de5263d"
  },
  {
   "cell_type": "code",
   "execution_count": 6,
   "id": "initial_id",
   "metadata": {
    "collapsed": true,
    "ExecuteTime": {
     "end_time": "2024-10-11T16:10:00.505073Z",
     "start_time": "2024-10-11T16:10:00.485622Z"
    }
   },
   "outputs": [
    {
     "data": {
      "text/plain": "     paper_id                                              title  \\\n0          42  Training Language Models for Programming Feedb...   \n1          54  Comparative Quality Analysis of GPT-Based Mult...   \n2          59  Assessing ChatGPT’s Proficiency in CS1-Level P...   \n3          71  Performance of Large Language Models in a Comp...   \n4          72  Bridging the Programming Skill Gap with ChatGP...   \n..        ...                                                ...   \n120      1094     CS1-LLM: Integrating LLMs into CS1 Instruction   \n121      1098  The Impact of Structured Prompt-Driven Generat...   \n122      1494         Examining Student Use of AI in CS1 and CS2   \n123      1497              Can ChatGPT Pass a CS1 Python Course?   \n124      1507  ExGen: Ready-To-Use Exercise Generation in Int...   \n\n                                              abstract  \\\n0                                                 None   \n1                                                 None   \n2                                                 None   \n3    Large language models such as ChatGPT-3.5 and ...   \n4                                                 None   \n..                                                 ...   \n120  The recent, widespread availability of Large L...   \n121  AbstractView references\\n\\nThis paper investig...   \n122  The launch of ChatGPT in November 2022 marked ...   \n123  In this paper we determine whether an LLM-Chat...   \n124  In introductory programming courses, students ...   \n\n                      source  \\\n0           springer, scopus   \n1                   springer   \n2                   springer   \n3    springer, scopus, arxiv   \n4                   springer   \n..                       ...   \n120                    arxiv   \n121                   scopus   \n122                      acm   \n123                      acm   \n124           web_of_science   \n\n                                                bibtex            type  \\\n0    @inbook{koutcheme2023training, title={Training...  Representation   \n1    @InProceedings{grevisse2024comparative,\\r\\naut...     Application   \n2    @inbook{sanchez2023assessing, title={Assessing...     Application   \n3    @InProceedings{kruger2024performance,\\r\\nautho...     Application   \n4    @inbook{reiche2024bridging, title={Bridging th...     Application   \n..                                                 ...             ...   \n120  @misc{vadaparty2024cs1llm,\\n  doi = {10.48550/...     Application   \n121  @conference{garg2024impact,\\r\\nauthor={Ashish ...     Application   \n122  @article{manley2024examining,\\r\\nauthor = {Man...     Application   \n123  @article{sharpe2024can,\\nauthor = {Sharpe, Jam...     Application   \n124  @article{ta2023exgen,\\r\\n  title={ExGen: Ready...  Representation   \n\n                              doi  \n0    10.1007/978-3-031-36272-9_79  \n1    10.1007/978-3-031-46813-1_29  \n2     10.1007/978-3-031-47372-2_7  \n3    10.1007/978-3-031-50485-3_40  \n4    10.1007/978-3-031-50485-3_42  \n..                            ...  \n120     10.48550/arXiv.2406.15379  \n121      10.5220/0012693000003693  \n122                          None  \n123                          None  \n124                          None  \n\n[125 rows x 7 columns]",
      "text/html": "<div>\n<style scoped>\n    .dataframe tbody tr th:only-of-type {\n        vertical-align: middle;\n    }\n\n    .dataframe tbody tr th {\n        vertical-align: top;\n    }\n\n    .dataframe thead th {\n        text-align: right;\n    }\n</style>\n<table border=\"1\" class=\"dataframe\">\n  <thead>\n    <tr style=\"text-align: right;\">\n      <th></th>\n      <th>paper_id</th>\n      <th>title</th>\n      <th>abstract</th>\n      <th>source</th>\n      <th>bibtex</th>\n      <th>type</th>\n      <th>doi</th>\n    </tr>\n  </thead>\n  <tbody>\n    <tr>\n      <th>0</th>\n      <td>42</td>\n      <td>Training Language Models for Programming Feedb...</td>\n      <td>None</td>\n      <td>springer, scopus</td>\n      <td>@inbook{koutcheme2023training, title={Training...</td>\n      <td>Representation</td>\n      <td>10.1007/978-3-031-36272-9_79</td>\n    </tr>\n    <tr>\n      <th>1</th>\n      <td>54</td>\n      <td>Comparative Quality Analysis of GPT-Based Mult...</td>\n      <td>None</td>\n      <td>springer</td>\n      <td>@InProceedings{grevisse2024comparative,\\r\\naut...</td>\n      <td>Application</td>\n      <td>10.1007/978-3-031-46813-1_29</td>\n    </tr>\n    <tr>\n      <th>2</th>\n      <td>59</td>\n      <td>Assessing ChatGPT’s Proficiency in CS1-Level P...</td>\n      <td>None</td>\n      <td>springer</td>\n      <td>@inbook{sanchez2023assessing, title={Assessing...</td>\n      <td>Application</td>\n      <td>10.1007/978-3-031-47372-2_7</td>\n    </tr>\n    <tr>\n      <th>3</th>\n      <td>71</td>\n      <td>Performance of Large Language Models in a Comp...</td>\n      <td>Large language models such as ChatGPT-3.5 and ...</td>\n      <td>springer, scopus, arxiv</td>\n      <td>@InProceedings{kruger2024performance,\\r\\nautho...</td>\n      <td>Application</td>\n      <td>10.1007/978-3-031-50485-3_40</td>\n    </tr>\n    <tr>\n      <th>4</th>\n      <td>72</td>\n      <td>Bridging the Programming Skill Gap with ChatGP...</td>\n      <td>None</td>\n      <td>springer</td>\n      <td>@inbook{reiche2024bridging, title={Bridging th...</td>\n      <td>Application</td>\n      <td>10.1007/978-3-031-50485-3_42</td>\n    </tr>\n    <tr>\n      <th>...</th>\n      <td>...</td>\n      <td>...</td>\n      <td>...</td>\n      <td>...</td>\n      <td>...</td>\n      <td>...</td>\n      <td>...</td>\n    </tr>\n    <tr>\n      <th>120</th>\n      <td>1094</td>\n      <td>CS1-LLM: Integrating LLMs into CS1 Instruction</td>\n      <td>The recent, widespread availability of Large L...</td>\n      <td>arxiv</td>\n      <td>@misc{vadaparty2024cs1llm,\\n  doi = {10.48550/...</td>\n      <td>Application</td>\n      <td>10.48550/arXiv.2406.15379</td>\n    </tr>\n    <tr>\n      <th>121</th>\n      <td>1098</td>\n      <td>The Impact of Structured Prompt-Driven Generat...</td>\n      <td>AbstractView references\\n\\nThis paper investig...</td>\n      <td>scopus</td>\n      <td>@conference{garg2024impact,\\r\\nauthor={Ashish ...</td>\n      <td>Application</td>\n      <td>10.5220/0012693000003693</td>\n    </tr>\n    <tr>\n      <th>122</th>\n      <td>1494</td>\n      <td>Examining Student Use of AI in CS1 and CS2</td>\n      <td>The launch of ChatGPT in November 2022 marked ...</td>\n      <td>acm</td>\n      <td>@article{manley2024examining,\\r\\nauthor = {Man...</td>\n      <td>Application</td>\n      <td>None</td>\n    </tr>\n    <tr>\n      <th>123</th>\n      <td>1497</td>\n      <td>Can ChatGPT Pass a CS1 Python Course?</td>\n      <td>In this paper we determine whether an LLM-Chat...</td>\n      <td>acm</td>\n      <td>@article{sharpe2024can,\\nauthor = {Sharpe, Jam...</td>\n      <td>Application</td>\n      <td>None</td>\n    </tr>\n    <tr>\n      <th>124</th>\n      <td>1507</td>\n      <td>ExGen: Ready-To-Use Exercise Generation in Int...</td>\n      <td>In introductory programming courses, students ...</td>\n      <td>web_of_science</td>\n      <td>@article{ta2023exgen,\\r\\n  title={ExGen: Ready...</td>\n      <td>Representation</td>\n      <td>None</td>\n    </tr>\n  </tbody>\n</table>\n<p>125 rows × 7 columns</p>\n</div>"
     },
     "execution_count": 6,
     "metadata": {},
     "output_type": "execute_result"
    }
   ],
   "source": [
    "import pandas as pd\n",
    "import sqlite3\n",
    "import os\n",
    "\n",
    "def get_all_relevant_papers() -> pd.DataFrame:\n",
    "    # Connect to the SQLite database\n",
    "    conn = sqlite3.connect('../../data/db_llm_education_survey.sqlite3')\n",
    "\n",
    "    # Create a cursor object\n",
    "    cursor = conn.cursor()\n",
    "\n",
    "    # Execute a SQL query\n",
    "    cursor.execute('SELECT paper_id, title, abstract, source, bibtex, type, doi FROM llm_education_survey_paper JOIN '\n",
    "                   'llm_education_survey_analysis ON llm_education_survey_paper.id = llm_education_survey_analysis.paper_id '\n",
    "                   'WHERE is_relevant = 1 AND user_id = 15')\n",
    "\n",
    "    # fetch all the results in a data frame\n",
    "    rows = cursor.fetchall()\n",
    "    return pd.DataFrame(rows, columns=['paper_id', 'title', 'abstract', 'source', 'bibtex', 'type', 'doi'])\n",
    "\n",
    "papers = get_all_relevant_papers()\n",
    "papers"
   ]
  },
  {
   "cell_type": "code",
   "outputs": [
    {
     "name": "stdout",
     "output_type": "stream",
     "text": [
      "10.1007/978-3-031-36272-9_79 [2023, 6, 25]\n",
      "10.1007/978-3-031-46813-1_29 [2023, 10, 23]\n",
      "10.1007/978-3-031-47372-2_7 [2023, 11, 13]\n",
      "10.1007/978-3-031-50485-3_40 [2024, 1, 24]\n",
      "10.1007/978-3-031-50485-3_42 [2024, 1, 24]\n",
      "10.1007/978-3-031-53022-7_5 [2024, 2, 6]\n",
      "10.1007/978-3-031-53656-4_8 [2024, 2, 14]\n",
      "10.1007/978-3-031-56478-9_21 [2024, 3, 29]\n",
      "10.1007/978-3-031-60609-0_20 [2024, 6, 1]\n",
      "10.1007/978-3-031-61691-4_14 [2024, 6, 1]\n",
      "10.1007/978-3-031-63028-6_20 [2024, 5, 31]\n",
      "10.1007/978-3-031-64302-6_19 [2024, 7, 1]\n",
      "10.1007/978-981-97-0730-0_27 [2024, 2, 25]\n",
      "10.1007/978-981-97-0730-0_28 [2024, 2, 25]\n",
      "10.1007/978-981-99-8385-8_14 [2023, 11, 23]\n",
      "10.1007/978-981-99-8429-9_39 [2023, 12, 23]\n",
      "10.1007/s10639-024-12520-6 [2024, 2, 16]\n",
      "10.1007/s10639-024-12765-1 [2024, 5, 18]\n",
      "10.1007/s40593-024-00406-0 [2024, 5, 15]\n",
      "10.1007/s40593-024-00414-0 [2024, 6, 25]\n",
      "10.1007/s42979-024-02714-7 [2024, 3, 29]\n",
      "10.1007/s42979-024-02963-6 [2024, 6, 10]\n",
      "10.1109/ACCESS.2024.3380909 [2024, 3, 22]\n",
      "10.1109/CEI60616.2023.10527886 [2024, 5, 15]\n",
      "10.1109/CSEET58097.2023.00031 [2023, 8, 31]\n",
      "10.1109/FIE58773.2023.10342898 [2024, 1, 5]\n",
      "10.1109/FIE58773.2023.10343467 [2024, 1, 5]\n",
      "10.1109/ICSTW58534.2023.00078 [2023, 5, 29]\n",
      "10.1109/QRS60937.2023.00028 [2023, 12, 25]\n",
      "10.1109/RITA.2024.3381842 [2024, 3, 25]\n",
      "10.1109/TLT.2024.3403710 [2024, 5, 21]\n",
      "10.1109/VL-HCC57772.2023.00018 [2023, 11, 7]\n",
      "10.1111/dsji.12306 [2024, 1, 19]\n",
      "10.1145/3501385.3543957 [2022, 8, 4]\n",
      "10.1145/3544548.3580919 [2023, 4, 20]\n",
      "10.1145/3545945.3569759 [2023, 3, 3]\n",
      "10.1145/3545945.3569785 [2023, 3, 3]\n",
      "10.1145/3545945.3569823 [2023, 3, 3]\n",
      "10.1145/3568813.3600138 [2023, 9, 10]\n",
      "10.1145/3568813.3600142 [2023, 9, 10]\n",
      "10.1145/3581754.3584111 [2023, 3, 26]\n",
      "10.1145/3585059.3611409 [2023, 10, 9]\n",
      "10.1145/3585059.3611431 [2023, 10, 9]\n",
      "10.1145/3587102.3588785 [2023, 6, 30]\n",
      "10.1145/3587102.3588814 [2023, 6, 30]\n",
      "10.1145/3587102.3588852 [2023, 6, 30]\n",
      "10.1145/3605507.3610629 [2024, 6, 26]\n",
      "10.1145/3613904.3642349 [2024, 5, 11]\n",
      "10.1145/3613904.3642706 [2024, 5, 11]\n",
      "10.1145/3613904.3642773 [2024, 5, 11]\n",
      "10.1145/3613905.3637148 [2024, 5, 11]\n",
      "10.1145/3613944.3613946 [2023, 12, 22]\n",
      "10.1145/3616961.3616974 [2023, 11, 2]\n",
      "10.1145/3622780.3623648 [2023, 10, 19]\n",
      "10.1145/3623762.3633499 [2023, 12, 28]\n",
      "10.1145/3626252.3630789 [2024, 3, 7]\n",
      "10.1145/3626252.3630803 [2024, 3, 7]\n",
      "10.1145/3626252.3630817 [2024, 3, 7]\n",
      "10.1145/3626252.3630826 [2024, 3, 7]\n",
      "10.1145/3626252.3630863 [2024, 3, 7]\n",
      "10.1145/3626252.3630874 [2024, 3, 7]\n",
      "10.1145/3626252.3630897 [2024, 3, 7]\n",
      "10.1145/3626252.3630909 [2024, 3, 7]\n",
      "10.1145/3626252.3630927 [2024, 3, 7]\n",
      "10.1145/3626252.3630937 [2024, 3, 7]\n",
      "10.1145/3626252.3630938 [2024, 3, 7]\n",
      "10.1145/3627217.3627233 [2023, 12, 20]\n",
      "10.1145/3627217.3627235 [2023, 12, 20]\n",
      "10.1145/3631802.3631806 [2024, 2, 6]\n",
      "10.1145/3631802.3631830 [2024, 2, 6]\n",
      "10.1145/3632620.3671098 [2024, 8, 6]\n",
      "10.1145/3633053.3633057 [2023, 12, 29]\n",
      "10.1145/3634814.3634816 [2024, 3, 26]\n",
      "10.1145/3636243.3636248 [2024, 1, 2]\n",
      "10.1145/3636243.3636249 [2024, 1, 2]\n",
      "10.1145/3636243.3636252 [2024, 1, 2]\n",
      "10.1145/3636243.3636256 [2024, 1, 2]\n",
      "10.1145/3636243.3636257 [2024, 1, 2]\n",
      "10.1145/3636243.3636259 [2024, 1, 2]\n",
      "10.1145/3636243.3636263 [2024, 1, 2]\n",
      "10.1145/3638067.3638100 [2024, 1, 24]\n",
      "10.1145/3639474.3640052 [2024, 5, 24]\n",
      "10.1145/3639474.3640061 [2024, 5, 24]\n",
      "10.1145/3649217.3653574 [2024, 7, 3]\n",
      "10.1145/3657604.3662036 [2024, 7, 15]\n",
      "10.1145/3661167.3661273 [2024, 6, 14]\n",
      "10.1145/3663649.3664371 [2024, 7, 2]\n",
      "10.1145/3674149 [2024, 6, 20]\n",
      "10.1371/journal.pcbi.1011511 [2023, 9, 28]\n",
      "10.18653/v1/2023.findings-emnlp.496 [2023, 12, 10]\n",
      "10.3390/app14104115 [2024, 5, 14]\n",
      "10.3390/informatics10040078 [2023, 10, 12]\n",
      "10.3390/math12050629 [2024, 2, 21]\n",
      "10.3934/steme.2024011 [2024, 6, 1]\n",
      "10.3991/ijep.v13i8.45621 [2023, 12, 14]\n",
      "10.48550/arXiv.2206.05442 None\n"
     ]
    },
    {
     "ename": "KeyError",
     "evalue": "'year'",
     "output_type": "error",
     "traceback": [
      "\u001B[0;31m---------------------------------------------------------------------------\u001B[0m",
      "\u001B[0;31mKeyError\u001B[0m                                  Traceback (most recent call last)",
      "File \u001B[0;32m/usr/local/lib/python3.11/site-packages/pandas/core/indexes/base.py:3805\u001B[0m, in \u001B[0;36mIndex.get_loc\u001B[0;34m(self, key)\u001B[0m\n\u001B[1;32m   3804\u001B[0m \u001B[38;5;28;01mtry\u001B[39;00m:\n\u001B[0;32m-> 3805\u001B[0m     \u001B[38;5;28;01mreturn\u001B[39;00m \u001B[38;5;28;43mself\u001B[39;49m\u001B[38;5;241;43m.\u001B[39;49m\u001B[43m_engine\u001B[49m\u001B[38;5;241;43m.\u001B[39;49m\u001B[43mget_loc\u001B[49m\u001B[43m(\u001B[49m\u001B[43mcasted_key\u001B[49m\u001B[43m)\u001B[49m\n\u001B[1;32m   3806\u001B[0m \u001B[38;5;28;01mexcept\u001B[39;00m \u001B[38;5;167;01mKeyError\u001B[39;00m \u001B[38;5;28;01mas\u001B[39;00m err:\n",
      "File \u001B[0;32mindex.pyx:167\u001B[0m, in \u001B[0;36mpandas._libs.index.IndexEngine.get_loc\u001B[0;34m()\u001B[0m\n",
      "File \u001B[0;32mindex.pyx:196\u001B[0m, in \u001B[0;36mpandas._libs.index.IndexEngine.get_loc\u001B[0;34m()\u001B[0m\n",
      "File \u001B[0;32mpandas/_libs/hashtable_class_helper.pxi:7081\u001B[0m, in \u001B[0;36mpandas._libs.hashtable.PyObjectHashTable.get_item\u001B[0;34m()\u001B[0m\n",
      "File \u001B[0;32mpandas/_libs/hashtable_class_helper.pxi:7089\u001B[0m, in \u001B[0;36mpandas._libs.hashtable.PyObjectHashTable.get_item\u001B[0;34m()\u001B[0m\n",
      "\u001B[0;31mKeyError\u001B[0m: 'year'",
      "\nThe above exception was the direct cause of the following exception:\n",
      "\u001B[0;31mKeyError\u001B[0m                                  Traceback (most recent call last)",
      "Cell \u001B[0;32mIn[18], line 19\u001B[0m\n\u001B[1;32m     17\u001B[0m \u001B[38;5;28mprint\u001B[39m(row[\u001B[38;5;124m'\u001B[39m\u001B[38;5;124mdoi\u001B[39m\u001B[38;5;124m'\u001B[39m], pub_date)\n\u001B[1;32m     18\u001B[0m \u001B[38;5;28;01mif\u001B[39;00m pub_date \u001B[38;5;129;01mis\u001B[39;00m \u001B[38;5;28;01mNone\u001B[39;00m:\n\u001B[0;32m---> 19\u001B[0m     pub_date \u001B[38;5;241m=\u001B[39m  \u001B[38;5;124mf\u001B[39m\u001B[38;5;124m'\u001B[39m\u001B[38;5;132;01m{\u001B[39;00m\u001B[43mrow\u001B[49m\u001B[43m[\u001B[49m\u001B[38;5;124;43m\"\u001B[39;49m\u001B[38;5;124;43myear\u001B[39;49m\u001B[38;5;124;43m\"\u001B[39;49m\u001B[43m]\u001B[49m\u001B[38;5;132;01m}\u001B[39;00m\u001B[38;5;124m-01-01\u001B[39m\u001B[38;5;124m'\u001B[39m\n\u001B[1;32m     20\u001B[0m \u001B[38;5;28;01melif\u001B[39;00m \u001B[38;5;28mlen\u001B[39m(pub_date) \u001B[38;5;241m==\u001B[39m \u001B[38;5;241m1\u001B[39m:\n\u001B[1;32m     21\u001B[0m     pub_date \u001B[38;5;241m=\u001B[39m  \u001B[38;5;124mf\u001B[39m\u001B[38;5;124m'\u001B[39m\u001B[38;5;132;01m{\u001B[39;00mpub_date[\u001B[38;5;241m0\u001B[39m]\u001B[38;5;132;01m}\u001B[39;00m\u001B[38;5;124m-01-01\u001B[39m\u001B[38;5;124m'\u001B[39m\n",
      "File \u001B[0;32m/usr/local/lib/python3.11/site-packages/pandas/core/series.py:1121\u001B[0m, in \u001B[0;36mSeries.__getitem__\u001B[0;34m(self, key)\u001B[0m\n\u001B[1;32m   1118\u001B[0m     \u001B[38;5;28;01mreturn\u001B[39;00m \u001B[38;5;28mself\u001B[39m\u001B[38;5;241m.\u001B[39m_values[key]\n\u001B[1;32m   1120\u001B[0m \u001B[38;5;28;01melif\u001B[39;00m key_is_scalar:\n\u001B[0;32m-> 1121\u001B[0m     \u001B[38;5;28;01mreturn\u001B[39;00m \u001B[38;5;28;43mself\u001B[39;49m\u001B[38;5;241;43m.\u001B[39;49m\u001B[43m_get_value\u001B[49m\u001B[43m(\u001B[49m\u001B[43mkey\u001B[49m\u001B[43m)\u001B[49m\n\u001B[1;32m   1123\u001B[0m \u001B[38;5;66;03m# Convert generator to list before going through hashable part\u001B[39;00m\n\u001B[1;32m   1124\u001B[0m \u001B[38;5;66;03m# (We will iterate through the generator there to check for slices)\u001B[39;00m\n\u001B[1;32m   1125\u001B[0m \u001B[38;5;28;01mif\u001B[39;00m is_iterator(key):\n",
      "File \u001B[0;32m/usr/local/lib/python3.11/site-packages/pandas/core/series.py:1237\u001B[0m, in \u001B[0;36mSeries._get_value\u001B[0;34m(self, label, takeable)\u001B[0m\n\u001B[1;32m   1234\u001B[0m     \u001B[38;5;28;01mreturn\u001B[39;00m \u001B[38;5;28mself\u001B[39m\u001B[38;5;241m.\u001B[39m_values[label]\n\u001B[1;32m   1236\u001B[0m \u001B[38;5;66;03m# Similar to Index.get_value, but we do not fall back to positional\u001B[39;00m\n\u001B[0;32m-> 1237\u001B[0m loc \u001B[38;5;241m=\u001B[39m \u001B[38;5;28;43mself\u001B[39;49m\u001B[38;5;241;43m.\u001B[39;49m\u001B[43mindex\u001B[49m\u001B[38;5;241;43m.\u001B[39;49m\u001B[43mget_loc\u001B[49m\u001B[43m(\u001B[49m\u001B[43mlabel\u001B[49m\u001B[43m)\u001B[49m\n\u001B[1;32m   1239\u001B[0m \u001B[38;5;28;01mif\u001B[39;00m is_integer(loc):\n\u001B[1;32m   1240\u001B[0m     \u001B[38;5;28;01mreturn\u001B[39;00m \u001B[38;5;28mself\u001B[39m\u001B[38;5;241m.\u001B[39m_values[loc]\n",
      "File \u001B[0;32m/usr/local/lib/python3.11/site-packages/pandas/core/indexes/base.py:3812\u001B[0m, in \u001B[0;36mIndex.get_loc\u001B[0;34m(self, key)\u001B[0m\n\u001B[1;32m   3807\u001B[0m     \u001B[38;5;28;01mif\u001B[39;00m \u001B[38;5;28misinstance\u001B[39m(casted_key, \u001B[38;5;28mslice\u001B[39m) \u001B[38;5;129;01mor\u001B[39;00m (\n\u001B[1;32m   3808\u001B[0m         \u001B[38;5;28misinstance\u001B[39m(casted_key, abc\u001B[38;5;241m.\u001B[39mIterable)\n\u001B[1;32m   3809\u001B[0m         \u001B[38;5;129;01mand\u001B[39;00m \u001B[38;5;28many\u001B[39m(\u001B[38;5;28misinstance\u001B[39m(x, \u001B[38;5;28mslice\u001B[39m) \u001B[38;5;28;01mfor\u001B[39;00m x \u001B[38;5;129;01min\u001B[39;00m casted_key)\n\u001B[1;32m   3810\u001B[0m     ):\n\u001B[1;32m   3811\u001B[0m         \u001B[38;5;28;01mraise\u001B[39;00m InvalidIndexError(key)\n\u001B[0;32m-> 3812\u001B[0m     \u001B[38;5;28;01mraise\u001B[39;00m \u001B[38;5;167;01mKeyError\u001B[39;00m(key) \u001B[38;5;28;01mfrom\u001B[39;00m \u001B[38;5;21;01merr\u001B[39;00m\n\u001B[1;32m   3813\u001B[0m \u001B[38;5;28;01mexcept\u001B[39;00m \u001B[38;5;167;01mTypeError\u001B[39;00m:\n\u001B[1;32m   3814\u001B[0m     \u001B[38;5;66;03m# If we have a listlike key, _check_indexing_error will raise\u001B[39;00m\n\u001B[1;32m   3815\u001B[0m     \u001B[38;5;66;03m#  InvalidIndexError. Otherwise we fall through and re-raise\u001B[39;00m\n\u001B[1;32m   3816\u001B[0m     \u001B[38;5;66;03m#  the TypeError.\u001B[39;00m\n\u001B[1;32m   3817\u001B[0m     \u001B[38;5;28mself\u001B[39m\u001B[38;5;241m.\u001B[39m_check_indexing_error(key)\n",
      "\u001B[0;31mKeyError\u001B[0m: 'year'"
     ]
    }
   ],
   "source": [
    "\n",
    "output_folder = '../../website/_posts/'\n",
    "os.makedirs(output_folder, exist_ok=True)\n",
    "\n",
    "def get_pub_date(doi:str) -> str:\n",
    "    import requests\n",
    "    import json\n",
    "    url = f'https://api.crossref.org/works/{doi}'\n",
    "    response = requests.get(url)\n",
    "    if response.status_code == 200:\n",
    "        data = json.loads(response.text)\n",
    "        #return data['message']['published']#['date-parts'][0]\n",
    "        return data['message']['created']['date-parts'][0]\n",
    "    return None\n",
    "\n",
    "for index, row in papers.iterrows():\n",
    "    pub_date = get_pub_date(row['doi'])\n",
    "    print(row['doi'], pub_date)\n",
    "    if pub_date is None:\n",
    "        pub_date =  f'{row[\"year\"]}-01-01'\n",
    "    elif len(pub_date) == 1:\n",
    "        pub_date =  f'{pub_date[0]}-01-01'\n",
    "    elif len(pub_date) == 2:\n",
    "        pub_date = f'{pub_date[0]}-{pub_date[1]}-01'\n",
    "    elif len(pub_date) == 3:\n",
    "        pub_date = \"-\".join([str(x) for x in pub_date])\n",
    "    output_file = os.path.join(output_folder, f'{pub_date}-{row[\"paper_id\"]}.md')\n",
    "    with open(output_file, 'w') as f:\n",
    "        title = row['title'].replace('\"', '\\\\\"')\n",
    "        f.write('---\\n')\n",
    "        f.write(f'title: \"{title}\"\\n')\n",
    "        f.write(f'layout: single\\n')\n",
    "        f.write('---\\n')\n",
    "        f.write('\\n')\n",
    "        f.write('## Abstract\\n')\n",
    "        f.write(f'{row[\"abstract\"]}\\n')"
   ],
   "metadata": {
    "collapsed": false,
    "ExecuteTime": {
     "end_time": "2024-10-11T16:45:47.109173Z",
     "start_time": "2024-10-11T16:45:16.553615Z"
    }
   },
   "id": "f7cc9c3f379dfb32",
   "execution_count": 18
  }
 ],
 "metadata": {
  "kernelspec": {
   "display_name": "Python 3",
   "language": "python",
   "name": "python3"
  },
  "language_info": {
   "codemirror_mode": {
    "name": "ipython",
    "version": 2
   },
   "file_extension": ".py",
   "mimetype": "text/x-python",
   "name": "python",
   "nbconvert_exporter": "python",
   "pygments_lexer": "ipython2",
   "version": "2.7.6"
  }
 },
 "nbformat": 4,
 "nbformat_minor": 5
}
