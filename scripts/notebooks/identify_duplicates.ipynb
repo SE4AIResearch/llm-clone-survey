{
 "cells": [
  {
   "cell_type": "code",
   "outputs": [],
   "source": [
    "import sqlite3\n",
    "\n",
    "from Levenshtein import distance\n",
    "\n",
    "THRESHOLD = 10\n",
    "if __name__ == \"__main__\":\n",
    "    # Connect to the SQLite database\n",
    "    conn = sqlite3.connect('../../coding_website/db_llm_education_survey.sqlite3')\n",
    "\n",
    "    # Create a cursor object\n",
    "    cursor = conn.cursor()\n",
    "\n",
    "    # Execute a SQL query\n",
    "    cursor.execute('SELECT id, title, source FROM llm_education_survey_paper')\n",
    "\n",
    "    # Fetch all results from the executed query\n",
    "    rows = cursor.fetchall()\n",
    "\n",
    "    # Compose paper list\n",
    "    papers = [r for r in rows]\n",
    "\n",
    "    with (open(\"../results/possible_duplicates.tsv\", \"w\") as f):\n",
    "        f.write(f\"paper1_id\\tpaper2_id\\tsource1\\tsource2\\tcombined_sources\\tpaper1\\tpaper2\\tedit_distance\\n\")\n",
    "        for paper1_id, paper1, source1 in papers:\n",
    "            for paper2_id, paper2,source2 in papers:\n",
    "                if paper1_id != paper2_id and \\\n",
    "                    paper1_id < paper2_id and \\\n",
    "                        len(paper1) > THRESHOLD and \\\n",
    "                        len(paper2) > THRESHOLD and \\\n",
    "                        source1 != source2:\n",
    "                    edit_distance = distance(paper1, paper2)\n",
    "                    if edit_distance <= THRESHOLD:\n",
    "                        clean_paper1 = paper1.replace('\\t', ' ').replace('\\n', ' ')\n",
    "                        clean_paper2 = paper2.replace('\\t', ' ').replace('\\n', ' ')\n",
    "                        combined_sources = f\"{source1}, {source2}\"\n",
    "                        f.write(f\"{paper1_id}\\t{paper2_id}\\t{source1}\\t{source2}\\t{combined_sources}\\t{clean_paper1}\\t{clean_paper2}\\t{edit_distance}\\n\")\n",
    "\n",
    "    # Close the connection\n",
    "    conn.close()\n"
   ],
   "metadata": {
    "collapsed": false
   },
   "id": "b955494c1bcbc73e"
  }
 ],
 "metadata": {
  "kernelspec": {
   "display_name": "Python 3",
   "language": "python",
   "name": "python3"
  },
  "language_info": {
   "codemirror_mode": {
    "name": "ipython",
    "version": 2
   },
   "file_extension": ".py",
   "mimetype": "text/x-python",
   "name": "python",
   "nbconvert_exporter": "python",
   "pygments_lexer": "ipython2",
   "version": "2.7.6"
  }
 },
 "nbformat": 4,
 "nbformat_minor": 5
}
