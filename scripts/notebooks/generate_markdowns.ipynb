{
 "cells": [
  {
   "cell_type": "markdown",
   "source": [
    "# Markdown for Research Methodology descriptions"
   ],
   "metadata": {
    "collapsed": false
   },
   "id": "206d05f6c2e35a13"
  },
  {
   "cell_type": "code",
   "execution_count": 16,
   "id": "initial_id",
   "metadata": {
    "collapsed": true,
    "ExecuteTime": {
     "end_time": "2024-07-22T14:16:37.900830Z",
     "start_time": "2024-07-22T14:16:37.893864Z"
    }
   },
   "outputs": [],
   "source": [
    "import sqlite3\n",
    "import pandas as pd\n",
    "\n",
    "\n",
    "# Connect to the SQLite database\n",
    "conn = sqlite3.connect('../../../coding_website/db_llm_education_survey.sqlite3')\n",
    "\n",
    "# Create a cursor object\n",
    "cursor = conn.cursor()\n",
    "\n",
    "# Execute a SQL query\n",
    "cursor.execute(\"SELECT * FROM llm_education_survey_researchmethodology \"\n",
    "               \"WHERE name LIKE 'ACM%'\")\n",
    "\n",
    "# fetch all the results in a data frame\n",
    "rows = cursor.fetchall()\n",
    "df = pd.DataFrame(rows, columns=['id', 'name', 'desciption'])"
   ]
  },
  {
   "cell_type": "code",
   "outputs": [],
   "source": [
    "# iterate over each row\n",
    "categories = [\n",
    "    ('General', 0),\n",
    "    ('Qualitative', 2),\n",
    "    ('Quantitative', 6),\n",
    "    \n",
    "    ('Literature Review', 14),\n",
    "    ('Other', 16),\n",
    "]\n",
    "\n",
    "\n",
    "\n",
    "with open('../../ResearchMethodologies.md', 'w') as f:\n",
    "    for index, row in df.iterrows():\n",
    "        for category, category_id in categories:\n",
    "            if category_id == index:\n",
    "                f.write(f\"\\n# {category}\\n\")\n",
    "        \n",
    "        description = row['desciption']\n",
    "        f.write(f\"\\n## {row['name']}\\n\")\n",
    "        for line in description.split('\\n'):\n",
    "            if line.strip() == 'Application':\n",
    "                f.write(f\"### Application\\n\")\n",
    "            else:\n",
    "                f.write(line + \"\\n\")\n",
    "    "
   ],
   "metadata": {
    "collapsed": false,
    "ExecuteTime": {
     "end_time": "2024-07-22T14:21:55.224080Z",
     "start_time": "2024-07-22T14:21:55.217400Z"
    }
   },
   "id": "2c2cff0feb93bff9",
   "execution_count": 23
  },
  {
   "cell_type": "code",
   "outputs": [],
   "source": [],
   "metadata": {
    "collapsed": false,
    "ExecuteTime": {
     "end_time": "2024-07-22T14:16:56.277035Z",
     "start_time": "2024-07-22T14:16:56.273122Z"
    }
   },
   "id": "fa0d8cc6360c2c3",
   "execution_count": 18
  },
  {
   "cell_type": "code",
   "outputs": [],
   "source": [],
   "metadata": {
    "collapsed": false
   },
   "id": "877be21bb441a9a6"
  }
 ],
 "metadata": {
  "kernelspec": {
   "display_name": "Python 3",
   "language": "python",
   "name": "python3"
  },
  "language_info": {
   "codemirror_mode": {
    "name": "ipython",
    "version": 2
   },
   "file_extension": ".py",
   "mimetype": "text/x-python",
   "name": "python",
   "nbconvert_exporter": "python",
   "pygments_lexer": "ipython2",
   "version": "2.7.6"
  }
 },
 "nbformat": 4,
 "nbformat_minor": 5
}
