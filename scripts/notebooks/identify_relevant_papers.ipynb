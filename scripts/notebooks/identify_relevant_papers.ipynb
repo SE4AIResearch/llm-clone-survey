{
 "cells": [
  {
   "cell_type": "markdown",
   "source": [
    "# Use TF-IDF to identify (possibly) irrelevant papers"
   ],
   "metadata": {
    "collapsed": false
   },
   "id": "4587112add231c70"
  },
  {
   "cell_type": "code",
   "outputs": [
    {
     "name": "stdout",
     "output_type": "stream",
     "text": [
      "(187, 4)\n"
     ]
    },
    {
     "data": {
      "text/plain": "     id                                              title  \\\n7    50  PapagAI: Automated Feedback for Reflective Essays   \n9    54  Comparative Quality Analysis of GPT-Based Mult...   \n37  221  Text Analysis on Early Reactions to ChatGPT as...   \n56  376  Studying the effect of AI Code Generators on S...   \n73  487  A Large-Scale Study of ML-Related Python Projects   \n8    51  Large Language Model Assisted Software Enginee...   \n1    32  Learner Models for MOOC in a Lifelong Learning...   \n\n                                             abstract       source  \\\n7                                                None     springer   \n9                                                None     springer   \n37                                               None     springer   \n56  AI code generators like OpenAI Codex have the ...  acm, scopus   \n73  The rise of machine learning (ML) for solving ...          acm   \n8                                                None     springer   \n1                                                None     springer   \n\n                                        combined_text  \n7   PapagAI: Automated Feedback for Reflective Ess...  \n9   Comparative Quality Analysis of GPT-Based Mult...  \n37  Text Analysis on Early Reactions to ChatGPT as...  \n56  Studying the effect of AI Code Generators on S...  \n73  A Large-Scale Study of ML-Related Python Proje...  \n8   Large Language Model Assisted Software Enginee...  \n1   Learner Models for MOOC in a Lifelong Learning...  ",
      "text/html": "<div>\n<style scoped>\n    .dataframe tbody tr th:only-of-type {\n        vertical-align: middle;\n    }\n\n    .dataframe tbody tr th {\n        vertical-align: top;\n    }\n\n    .dataframe thead th {\n        text-align: right;\n    }\n</style>\n<table border=\"1\" class=\"dataframe\">\n  <thead>\n    <tr style=\"text-align: right;\">\n      <th></th>\n      <th>id</th>\n      <th>title</th>\n      <th>abstract</th>\n      <th>source</th>\n      <th>combined_text</th>\n    </tr>\n  </thead>\n  <tbody>\n    <tr>\n      <th>7</th>\n      <td>50</td>\n      <td>PapagAI: Automated Feedback for Reflective Essays</td>\n      <td>None</td>\n      <td>springer</td>\n      <td>PapagAI: Automated Feedback for Reflective Ess...</td>\n    </tr>\n    <tr>\n      <th>9</th>\n      <td>54</td>\n      <td>Comparative Quality Analysis of GPT-Based Mult...</td>\n      <td>None</td>\n      <td>springer</td>\n      <td>Comparative Quality Analysis of GPT-Based Mult...</td>\n    </tr>\n    <tr>\n      <th>37</th>\n      <td>221</td>\n      <td>Text Analysis on Early Reactions to ChatGPT as...</td>\n      <td>None</td>\n      <td>springer</td>\n      <td>Text Analysis on Early Reactions to ChatGPT as...</td>\n    </tr>\n    <tr>\n      <th>56</th>\n      <td>376</td>\n      <td>Studying the effect of AI Code Generators on S...</td>\n      <td>AI code generators like OpenAI Codex have the ...</td>\n      <td>acm, scopus</td>\n      <td>Studying the effect of AI Code Generators on S...</td>\n    </tr>\n    <tr>\n      <th>73</th>\n      <td>487</td>\n      <td>A Large-Scale Study of ML-Related Python Projects</td>\n      <td>The rise of machine learning (ML) for solving ...</td>\n      <td>acm</td>\n      <td>A Large-Scale Study of ML-Related Python Proje...</td>\n    </tr>\n    <tr>\n      <th>8</th>\n      <td>51</td>\n      <td>Large Language Model Assisted Software Enginee...</td>\n      <td>None</td>\n      <td>springer</td>\n      <td>Large Language Model Assisted Software Enginee...</td>\n    </tr>\n    <tr>\n      <th>1</th>\n      <td>32</td>\n      <td>Learner Models for MOOC in a Lifelong Learning...</td>\n      <td>None</td>\n      <td>springer</td>\n      <td>Learner Models for MOOC in a Lifelong Learning...</td>\n    </tr>\n  </tbody>\n</table>\n</div>"
     },
     "execution_count": 12,
     "metadata": {},
     "output_type": "execute_result"
    }
   ],
   "source": [
    "import sqlite3\n",
    "from sklearn.feature_extraction.text import TfidfVectorizer\n",
    "from sklearn.metrics.pairwise import cosine_similarity\n",
    "import pandas as pd\n",
    "\n",
    "# Connect to the SQLite database\n",
    "conn = sqlite3.connect('../../coding_website/db_llm_education_survey.sqlite3')\n",
    "\n",
    "# Create a cursor object\n",
    "cursor = conn.cursor()\n",
    "\n",
    "# Execute a SQL query\n",
    "cursor.execute('SELECT llm_education_survey_paper.id, title, abstract, source FROM llm_education_survey_paper JOIN '\n",
    "               'llm_education_survey_analysis ON llm_education_survey_paper.id = llm_education_survey_analysis.paper_id '\n",
    "               'WHERE is_relevant = 1 AND user_id = 1')\n",
    "\n",
    "# fetch all the results in a data frame\n",
    "rows = cursor.fetchall()\n",
    "df = pd.DataFrame(rows, columns=['id', 'title','abstract', 'source'])\n",
    "\n",
    "print(df.shape)\n",
    "\n",
    "# Combine relevant text columns for vectorization\n",
    "df['combined_text'] = df[['title', 'abstract']].fillna('').apply(lambda row: ' '.join(row.values.astype(str)), axis=1)\n",
    "\n",
    "# Define query related to LLMs and CS education\n",
    "query = \"Large Language Models and machine learning applied to Computer Science education and teaching. Pedagogies and methodologies for teaching computer science students using LLMs.\"\n",
    "\n",
    "# Vectorize the text data\n",
    "vectorizer = TfidfVectorizer(stop_words='english')\n",
    "tfidf_matrix = vectorizer.fit_transform(df['combined_text'])\n",
    "query_vec = vectorizer.transform([query])\n",
    "\n",
    "# Calculate cosine similarity between the query and all documents\n",
    "cosine_similarities = cosine_similarity(query_vec, tfidf_matrix).flatten()\n",
    "\n",
    "# Get top N relevant papers\n",
    "N = 500\n",
    "top_n_indices = cosine_similarities.argsort()[-N:][::-1]\n",
    "relevant_papers = df.iloc[top_n_indices]\n",
    "\n",
    "# get least relevant papers\n",
    "least_n_indices = cosine_similarities.argsort()[:100]\n",
    "least_relevant_papers = df.iloc[least_n_indices]\n",
    "# exclude papers with terms like \"call for papers\" or \"conference\"\n",
    "least_relevant_papers = least_relevant_papers[~least_relevant_papers['combined_text'].str.contains('teach|student|educat|pedagog|classroom|course|CS1', case=False)]\n",
    "\n",
    "\n",
    "least_relevant_papers\n"
   ],
   "metadata": {
    "collapsed": false,
    "ExecuteTime": {
     "end_time": "2024-07-04T13:46:07.573936Z",
     "start_time": "2024-07-04T13:46:07.478836Z"
    }
   },
   "id": "5e3de2e8ea86bb15",
   "execution_count": 12
  },
  {
   "cell_type": "markdown",
   "source": [
    "# Export all papers to CSV for stage 1 analysis\n",
    "Get a dump of papers' metadata (title and abstract) for stage 1 analysis."
   ],
   "metadata": {
    "collapsed": false
   },
   "id": "9e7fce703b23625e"
  },
  {
   "cell_type": "markdown",
   "source": [
    "# Create a cursor object\n",
    "cursor = conn.cursor()\n",
    "\n",
    "# Execute a SQL query\n",
    "cursor.execute('SELECT llm_education_survey_paper.id, title, abstract, source, is_relevant FROM llm_education_survey_paper JOIN '\n",
    "               'llm_education_survey_analysis ON llm_education_survey_paper.id = llm_education_survey_analysis.paper_id '\n",
    "               'WHERE user_id = \"1\"')\n",
    "\n",
    "# fetch all the results in a data frame\n",
    "df_all = pd.DataFrame(cursor.fetchall(), columns=['id', 'title','abstract', 'source', 'is_relevant'])\n",
    "# change data type of is_relevant to string\n",
    "df_all['is_relevant'] = df_all['is_relevant'].astype(str)\n",
    "# fill na as empty string\n",
    "\n",
    "df_all.to_csv('../data/stage1_all_papers.csv', index=False)\n"
   ],
   "metadata": {
    "collapsed": false
   },
   "id": "9f9a21a27acc77a8"
  }
 ],
 "metadata": {
  "kernelspec": {
   "display_name": "Python 3",
   "language": "python",
   "name": "python3"
  },
  "language_info": {
   "codemirror_mode": {
    "name": "ipython",
    "version": 2
   },
   "file_extension": ".py",
   "mimetype": "text/x-python",
   "name": "python",
   "nbconvert_exporter": "python",
   "pygments_lexer": "ipython2",
   "version": "2.7.6"
  }
 },
 "nbformat": 4,
 "nbformat_minor": 5
}
