{
 "cells": [
  {
   "cell_type": "code",
   "execution_count": 3,
   "id": "initial_id",
   "metadata": {
    "collapsed": true,
    "ExecuteTime": {
     "end_time": "2024-07-02T23:38:41.086561Z",
     "start_time": "2024-07-02T23:38:41.082535Z"
    }
   },
   "outputs": [],
   "source": []
  },
  {
   "cell_type": "code",
   "outputs": [
    {
     "data": {
      "text/plain": "       id                                              title  \\\n40     90  1 \\(^{st}\\) Workshop on Information Retrieval ...   \n20     54  Comparative Quality Analysis of GPT-Based Mult...   \n50    112  Exploring GPT-4 as MR Sequence and Reconstruct...   \n23     59  Assessing ChatGPT’s Proficiency in CS1-Level P...   \n495   731  Simulating the Human in HCD with ChatGPT: Rede...   \n..    ...                                                ...   \n469   705  Evolving Roles and Workflows of Creative Pract...   \n437   665  Conversational Interfaces in IoT Ecosystems: W...   \n590   901  FormaT5: Abstention and Examples for Condition...   \n392   614  A Journey of a 1,000 Kernels Begins with a Sin...   \n857  1468  Benchmarking ChatGPT for prototyping theories:...   \n\n                                              abstract          source  \\\n40                                                None        springer   \n20                                                None        springer   \n50                                                None        springer   \n23                                                None        springer   \n495                                               None             acm   \n..                                                 ...             ...   \n469  Creative practitioners (like designers, softwa...             acm   \n437  In the last few years, text and voice-based co...             acm   \n590  Formatting is an important property in tables ...             acm   \n392  We are in age of AI, with rapidly changing alg...             acm   \n857  This paper explores the paradigm of leveraging...  science_direct   \n\n                                         combined_text  \n40   1 \\(^{st}\\) Workshop on Information Retrieval ...  \n20   Comparative Quality Analysis of GPT-Based Mult...  \n50   Exploring GPT-4 as MR Sequence and Reconstruct...  \n23   Assessing ChatGPT’s Proficiency in CS1-Level P...  \n495  Simulating the Human in HCD with ChatGPT: Rede...  \n..                                                 ...  \n469  Evolving Roles and Workflows of Creative Pract...  \n437  Conversational Interfaces in IoT Ecosystems: W...  \n590  FormaT5: Abstention and Examples for Condition...  \n392  A Journey of a 1,000 Kernels Begins with a Sin...  \n857  Benchmarking ChatGPT for prototyping theories:...  \n\n[100 rows x 5 columns]",
      "text/html": "<div>\n<style scoped>\n    .dataframe tbody tr th:only-of-type {\n        vertical-align: middle;\n    }\n\n    .dataframe tbody tr th {\n        vertical-align: top;\n    }\n\n    .dataframe thead th {\n        text-align: right;\n    }\n</style>\n<table border=\"1\" class=\"dataframe\">\n  <thead>\n    <tr style=\"text-align: right;\">\n      <th></th>\n      <th>id</th>\n      <th>title</th>\n      <th>abstract</th>\n      <th>source</th>\n      <th>combined_text</th>\n    </tr>\n  </thead>\n  <tbody>\n    <tr>\n      <th>40</th>\n      <td>90</td>\n      <td>1 \\(^{st}\\) Workshop on Information Retrieval ...</td>\n      <td>None</td>\n      <td>springer</td>\n      <td>1 \\(^{st}\\) Workshop on Information Retrieval ...</td>\n    </tr>\n    <tr>\n      <th>20</th>\n      <td>54</td>\n      <td>Comparative Quality Analysis of GPT-Based Mult...</td>\n      <td>None</td>\n      <td>springer</td>\n      <td>Comparative Quality Analysis of GPT-Based Mult...</td>\n    </tr>\n    <tr>\n      <th>50</th>\n      <td>112</td>\n      <td>Exploring GPT-4 as MR Sequence and Reconstruct...</td>\n      <td>None</td>\n      <td>springer</td>\n      <td>Exploring GPT-4 as MR Sequence and Reconstruct...</td>\n    </tr>\n    <tr>\n      <th>23</th>\n      <td>59</td>\n      <td>Assessing ChatGPT’s Proficiency in CS1-Level P...</td>\n      <td>None</td>\n      <td>springer</td>\n      <td>Assessing ChatGPT’s Proficiency in CS1-Level P...</td>\n    </tr>\n    <tr>\n      <th>495</th>\n      <td>731</td>\n      <td>Simulating the Human in HCD with ChatGPT: Rede...</td>\n      <td>None</td>\n      <td>acm</td>\n      <td>Simulating the Human in HCD with ChatGPT: Rede...</td>\n    </tr>\n    <tr>\n      <th>...</th>\n      <td>...</td>\n      <td>...</td>\n      <td>...</td>\n      <td>...</td>\n      <td>...</td>\n    </tr>\n    <tr>\n      <th>469</th>\n      <td>705</td>\n      <td>Evolving Roles and Workflows of Creative Pract...</td>\n      <td>Creative practitioners (like designers, softwa...</td>\n      <td>acm</td>\n      <td>Evolving Roles and Workflows of Creative Pract...</td>\n    </tr>\n    <tr>\n      <th>437</th>\n      <td>665</td>\n      <td>Conversational Interfaces in IoT Ecosystems: W...</td>\n      <td>In the last few years, text and voice-based co...</td>\n      <td>acm</td>\n      <td>Conversational Interfaces in IoT Ecosystems: W...</td>\n    </tr>\n    <tr>\n      <th>590</th>\n      <td>901</td>\n      <td>FormaT5: Abstention and Examples for Condition...</td>\n      <td>Formatting is an important property in tables ...</td>\n      <td>acm</td>\n      <td>FormaT5: Abstention and Examples for Condition...</td>\n    </tr>\n    <tr>\n      <th>392</th>\n      <td>614</td>\n      <td>A Journey of a 1,000 Kernels Begins with a Sin...</td>\n      <td>We are in age of AI, with rapidly changing alg...</td>\n      <td>acm</td>\n      <td>A Journey of a 1,000 Kernels Begins with a Sin...</td>\n    </tr>\n    <tr>\n      <th>857</th>\n      <td>1468</td>\n      <td>Benchmarking ChatGPT for prototyping theories:...</td>\n      <td>This paper explores the paradigm of leveraging...</td>\n      <td>science_direct</td>\n      <td>Benchmarking ChatGPT for prototyping theories:...</td>\n    </tr>\n  </tbody>\n</table>\n<p>100 rows × 5 columns</p>\n</div>"
     },
     "execution_count": 18,
     "metadata": {},
     "output_type": "execute_result"
    }
   ],
   "source": [
    "import sqlite3\n",
    "from sklearn.feature_extraction.text import TfidfVectorizer\n",
    "from sklearn.metrics.pairwise import cosine_similarity\n",
    "import pandas as pd\n",
    "\n",
    "# Load the CSV file\n",
    "# Connect to the SQLite database\n",
    "conn = sqlite3.connect('../../coding_website/db_llm_education_survey.sqlite3')\n",
    "\n",
    "# Create a cursor object\n",
    "cursor = conn.cursor()\n",
    "\n",
    "# Execute a SQL query\n",
    "cursor.execute('SELECT llm_education_survey_paper.id, title, abstract, source FROM llm_education_survey_paper JOIN '\n",
    "               'llm_education_survey_analysis ON llm_education_survey_paper.id = llm_education_survey_analysis.paper_id '\n",
    "               'WHERE is_relevant IS NULL AND user_id = \"1\"')\n",
    "\n",
    "# fetch all the results in a data frame\n",
    "rows = cursor.fetchall()\n",
    "df = pd.DataFrame(rows, columns=['id', 'title','abstract', 'source'])\n",
    "\n",
    "# Combine relevant text columns for vectorization\n",
    "df['combined_text'] = df[['title', 'abstract']].fillna('').apply(lambda row: ' '.join(row.values.astype(str)), axis=1)\n",
    "\n",
    "# Define query related to LLMs and CS education\n",
    "query = \"Large Language Models and machine learning applied to Computer Science education and teaching. Pedagogies and methodologies for teaching computer science students using LLMs.\"\n",
    "\n",
    "# Vectorize the text data\n",
    "vectorizer = TfidfVectorizer(stop_words='english')\n",
    "tfidf_matrix = vectorizer.fit_transform(df['combined_text'])\n",
    "query_vec = vectorizer.transform([query])\n",
    "\n",
    "# Calculate cosine similarity between the query and all documents\n",
    "cosine_similarities = cosine_similarity(query_vec, tfidf_matrix).flatten()\n",
    "\n",
    "# Get top N relevant papers\n",
    "N = 500\n",
    "top_n_indices = cosine_similarities.argsort()[-N:][::-1]\n",
    "relevant_papers = df.iloc[top_n_indices]\n",
    "\n",
    "# get least relevant papers\n",
    "least_n_indices = cosine_similarities.argsort()[:100]\n",
    "\n",
    "# Display the relevant papers\n",
    "\n",
    "\n",
    "# \n",
    "least_relevant_papers = df.iloc[least_n_indices]\n",
    "least_relevant_papers\n"
   ],
   "metadata": {
    "collapsed": false,
    "ExecuteTime": {
     "end_time": "2024-07-03T01:38:10.318170Z",
     "start_time": "2024-07-03T01:38:10.168546Z"
    }
   },
   "id": "5e3de2e8ea86bb15",
   "execution_count": 18
  }
 ],
 "metadata": {
  "kernelspec": {
   "display_name": "Python 3",
   "language": "python",
   "name": "python3"
  },
  "language_info": {
   "codemirror_mode": {
    "name": "ipython",
    "version": 2
   },
   "file_extension": ".py",
   "mimetype": "text/x-python",
   "name": "python",
   "nbconvert_exporter": "python",
   "pygments_lexer": "ipython2",
   "version": "2.7.6"
  }
 },
 "nbformat": 4,
 "nbformat_minor": 5
}
