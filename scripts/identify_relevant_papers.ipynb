{
 "cells": [
  {
   "cell_type": "code",
   "execution_count": 3,
   "id": "initial_id",
   "metadata": {
    "collapsed": true,
    "ExecuteTime": {
     "end_time": "2024-07-02T23:38:41.086561Z",
     "start_time": "2024-07-02T23:38:41.082535Z"
    }
   },
   "outputs": [],
   "source": []
  },
  {
   "cell_type": "code",
   "outputs": [
    {
     "data": {
      "text/plain": "        id                                              title  \\\n22      40                     Philosophical and Social Realm   \n1287  1390  Automating Human Tutor-Style Programming Feedb...   \n1291  1394  Impact of Guidance and Interaction Strategies ...   \n1298  1401  Prompt Problems: A New Programming Exercise fo...   \n1302  1405  Kattis vs. ChatGPT: Assessment and Evaluation ...   \n...    ...                                                ...   \n1053  1155                    Interview with Mariusz Pisarski   \n1056  1158  Co-designing a knowledge management tool for e...   \n1057  1159  Artificial Dreams: Surreal Visual Storytelling...   \n1058  1160  The Power of Absence: Thinking with Archival T...   \n1059  1161  Understanding On-the-Fly End-User Robot Progra...   \n\n                                                    url  \\\n22    https://link.springer.com/chapter/10.1007/978-...   \n1287              http://arxiv.org/pdf/2310.03780v3.pdf   \n1291              http://arxiv.org/pdf/2310.13712v2.pdf   \n1298              http://arxiv.org/pdf/2311.05943v1.pdf   \n1302              http://arxiv.org/pdf/2312.01109v1.pdf   \n...                                                 ...   \n1053            https://doi.org/10.1145/3643603.3643606   \n1056            https://doi.org/10.1145/3643834.3660682   \n1057            https://doi.org/10.1145/3643834.3660685   \n1058            https://doi.org/10.1145/3643834.3660690   \n1059            https://doi.org/10.1145/3643834.3660721   \n\n                              doi    source  year  \\\n22    10.1007/978-3-031-35331-4_2  springer  2023   \n1287    10.48550/arXiv.2310.03780     arxiv  2023   \n1291    10.48550/arXiv.2310.13712     arxiv  2023   \n1298    10.48550/arXiv.2311.05943     arxiv  2023   \n1302    10.48550/arXiv.2312.01109     arxiv  2023   \n...                           ...       ...   ...   \n1053      10.1145/3643603.3643606       acm  2024   \n1056      10.1145/3643834.3660682       acm  2024   \n1057      10.1145/3643834.3660685       acm  2024   \n1058      10.1145/3643834.3660690       acm  2024   \n1059      10.1145/3643834.3660721       acm  2024   \n\n                                                 bibtex abstract  \\\n22     @inbook{Aber_ek_2023, title={Philosophical an...      NaN   \n1287  @misc{https://doi.org/10.48550/arxiv.2310.0378...      NaN   \n1291  @misc{https://doi.org/10.48550/arxiv.2310.1371...      NaN   \n1298  @misc{https://doi.org/10.48550/arxiv.2311.0594...      NaN   \n1302  @misc{https://doi.org/10.48550/arxiv.2312.0110...      NaN   \n...                                                 ...      ...   \n1053  @article{10.1145/3643603.3643606,\\nauthor = {A...      NaN   \n1056  @inproceedings{10.1145/3643834.3660682,\\nautho...      NaN   \n1057  @inproceedings{10.1145/3643834.3660685,\\nautho...      NaN   \n1058  @inproceedings{10.1145/3643834.3660690,\\nautho...      NaN   \n1059  @inproceedings{10.1145/3643834.3660721,\\nautho...      NaN   \n\n                                          combined_text  \n22                      Philosophical and Social Realm   \n1287  Automating Human Tutor-Style Programming Feedb...  \n1291  Impact of Guidance and Interaction Strategies ...  \n1298  Prompt Problems: A New Programming Exercise fo...  \n1302  Kattis vs. ChatGPT: Assessment and Evaluation ...  \n...                                                 ...  \n1053                   Interview with Mariusz Pisarski   \n1056  Co-designing a knowledge management tool for e...  \n1057  Artificial Dreams: Surreal Visual Storytelling...  \n1058  The Power of Absence: Thinking with Archival T...  \n1059  Understanding On-the-Fly End-User Robot Progra...  \n\n[500 rows x 9 columns]",
      "text/html": "<div>\n<style scoped>\n    .dataframe tbody tr th:only-of-type {\n        vertical-align: middle;\n    }\n\n    .dataframe tbody tr th {\n        vertical-align: top;\n    }\n\n    .dataframe thead th {\n        text-align: right;\n    }\n</style>\n<table border=\"1\" class=\"dataframe\">\n  <thead>\n    <tr style=\"text-align: right;\">\n      <th></th>\n      <th>id</th>\n      <th>title</th>\n      <th>url</th>\n      <th>doi</th>\n      <th>source</th>\n      <th>year</th>\n      <th>bibtex</th>\n      <th>abstract</th>\n      <th>combined_text</th>\n    </tr>\n  </thead>\n  <tbody>\n    <tr>\n      <th>22</th>\n      <td>40</td>\n      <td>Philosophical and Social Realm</td>\n      <td>https://link.springer.com/chapter/10.1007/978-...</td>\n      <td>10.1007/978-3-031-35331-4_2</td>\n      <td>springer</td>\n      <td>2023</td>\n      <td>@inbook{Aber_ek_2023, title={Philosophical an...</td>\n      <td>NaN</td>\n      <td>Philosophical and Social Realm</td>\n    </tr>\n    <tr>\n      <th>1287</th>\n      <td>1390</td>\n      <td>Automating Human Tutor-Style Programming Feedb...</td>\n      <td>http://arxiv.org/pdf/2310.03780v3.pdf</td>\n      <td>10.48550/arXiv.2310.03780</td>\n      <td>arxiv</td>\n      <td>2023</td>\n      <td>@misc{https://doi.org/10.48550/arxiv.2310.0378...</td>\n      <td>NaN</td>\n      <td>Automating Human Tutor-Style Programming Feedb...</td>\n    </tr>\n    <tr>\n      <th>1291</th>\n      <td>1394</td>\n      <td>Impact of Guidance and Interaction Strategies ...</td>\n      <td>http://arxiv.org/pdf/2310.13712v2.pdf</td>\n      <td>10.48550/arXiv.2310.13712</td>\n      <td>arxiv</td>\n      <td>2023</td>\n      <td>@misc{https://doi.org/10.48550/arxiv.2310.1371...</td>\n      <td>NaN</td>\n      <td>Impact of Guidance and Interaction Strategies ...</td>\n    </tr>\n    <tr>\n      <th>1298</th>\n      <td>1401</td>\n      <td>Prompt Problems: A New Programming Exercise fo...</td>\n      <td>http://arxiv.org/pdf/2311.05943v1.pdf</td>\n      <td>10.48550/arXiv.2311.05943</td>\n      <td>arxiv</td>\n      <td>2023</td>\n      <td>@misc{https://doi.org/10.48550/arxiv.2311.0594...</td>\n      <td>NaN</td>\n      <td>Prompt Problems: A New Programming Exercise fo...</td>\n    </tr>\n    <tr>\n      <th>1302</th>\n      <td>1405</td>\n      <td>Kattis vs. ChatGPT: Assessment and Evaluation ...</td>\n      <td>http://arxiv.org/pdf/2312.01109v1.pdf</td>\n      <td>10.48550/arXiv.2312.01109</td>\n      <td>arxiv</td>\n      <td>2023</td>\n      <td>@misc{https://doi.org/10.48550/arxiv.2312.0110...</td>\n      <td>NaN</td>\n      <td>Kattis vs. ChatGPT: Assessment and Evaluation ...</td>\n    </tr>\n    <tr>\n      <th>...</th>\n      <td>...</td>\n      <td>...</td>\n      <td>...</td>\n      <td>...</td>\n      <td>...</td>\n      <td>...</td>\n      <td>...</td>\n      <td>...</td>\n      <td>...</td>\n    </tr>\n    <tr>\n      <th>1053</th>\n      <td>1155</td>\n      <td>Interview with Mariusz Pisarski</td>\n      <td>https://doi.org/10.1145/3643603.3643606</td>\n      <td>10.1145/3643603.3643606</td>\n      <td>acm</td>\n      <td>2024</td>\n      <td>@article{10.1145/3643603.3643606,\\nauthor = {A...</td>\n      <td>NaN</td>\n      <td>Interview with Mariusz Pisarski</td>\n    </tr>\n    <tr>\n      <th>1056</th>\n      <td>1158</td>\n      <td>Co-designing a knowledge management tool for e...</td>\n      <td>https://doi.org/10.1145/3643834.3660682</td>\n      <td>10.1145/3643834.3660682</td>\n      <td>acm</td>\n      <td>2024</td>\n      <td>@inproceedings{10.1145/3643834.3660682,\\nautho...</td>\n      <td>NaN</td>\n      <td>Co-designing a knowledge management tool for e...</td>\n    </tr>\n    <tr>\n      <th>1057</th>\n      <td>1159</td>\n      <td>Artificial Dreams: Surreal Visual Storytelling...</td>\n      <td>https://doi.org/10.1145/3643834.3660685</td>\n      <td>10.1145/3643834.3660685</td>\n      <td>acm</td>\n      <td>2024</td>\n      <td>@inproceedings{10.1145/3643834.3660685,\\nautho...</td>\n      <td>NaN</td>\n      <td>Artificial Dreams: Surreal Visual Storytelling...</td>\n    </tr>\n    <tr>\n      <th>1058</th>\n      <td>1160</td>\n      <td>The Power of Absence: Thinking with Archival T...</td>\n      <td>https://doi.org/10.1145/3643834.3660690</td>\n      <td>10.1145/3643834.3660690</td>\n      <td>acm</td>\n      <td>2024</td>\n      <td>@inproceedings{10.1145/3643834.3660690,\\nautho...</td>\n      <td>NaN</td>\n      <td>The Power of Absence: Thinking with Archival T...</td>\n    </tr>\n    <tr>\n      <th>1059</th>\n      <td>1161</td>\n      <td>Understanding On-the-Fly End-User Robot Progra...</td>\n      <td>https://doi.org/10.1145/3643834.3660721</td>\n      <td>10.1145/3643834.3660721</td>\n      <td>acm</td>\n      <td>2024</td>\n      <td>@inproceedings{10.1145/3643834.3660721,\\nautho...</td>\n      <td>NaN</td>\n      <td>Understanding On-the-Fly End-User Robot Progra...</td>\n    </tr>\n  </tbody>\n</table>\n<p>500 rows × 9 columns</p>\n</div>"
     },
     "execution_count": 7,
     "metadata": {},
     "output_type": "execute_result"
    }
   ],
   "source": [
    "from sklearn.feature_extraction.text import TfidfVectorizer\n",
    "from sklearn.metrics.pairwise import cosine_similarity\n",
    "import pandas as pd\n",
    "\n",
    "# Load the CSV file\n",
    "file_path = '../results/llm_education_survey_paper_after_2019.csv'\n",
    "df = pd.read_csv(file_path)\n",
    "\n",
    "# Display the first few rows of the DataFrame to understand its structure\n",
    "df.head()\n",
    "\n",
    "# Combine relevant text columns for vectorization\n",
    "df['combined_text'] = df[['title', 'abstract']].fillna('').apply(lambda row: ' '.join(row.values.astype(str)), axis=1)\n",
    "\n",
    "# Define query related to LLMs and CS education\n",
    "query = \"Large Language Models and machine learning applied to Computer Science education and teaching. Pedagogies and methodologies for teaching computer science students using LLMs.\"\n",
    "\n",
    "# Vectorize the text data\n",
    "vectorizer = TfidfVectorizer(stop_words='english')\n",
    "tfidf_matrix = vectorizer.fit_transform(df['combined_text'])\n",
    "query_vec = vectorizer.transform([query])\n",
    "\n",
    "# Calculate cosine similarity between the query and all documents\n",
    "cosine_similarities = cosine_similarity(query_vec, tfidf_matrix).flatten()\n",
    "\n",
    "# Get top N relevant papers\n",
    "N = 500\n",
    "top_n_indices = cosine_similarities.argsort()[-N:][::-1]\n",
    "relevant_papers = df.iloc[top_n_indices]\n",
    "\n",
    "# get least relevant papers\n",
    "least_n_indices = cosine_similarities.argsort()[:N]\n",
    "\n",
    "# Display the relevant papers\n",
    "relevant_papers\n",
    "\n",
    "# \n",
    "least_relevant_papers = df.iloc[least_n_indices]\n",
    "least_relevant_papers\n"
   ],
   "metadata": {
    "collapsed": false,
    "ExecuteTime": {
     "end_time": "2024-07-02T23:45:36.866897Z",
     "start_time": "2024-07-02T23:45:36.764531Z"
    }
   },
   "id": "5e3de2e8ea86bb15",
   "execution_count": 7
  },
  {
   "cell_type": "code",
   "outputs": [],
   "source": [],
   "metadata": {
    "collapsed": false,
    "ExecuteTime": {
     "end_time": "2024-07-02T23:38:41.192908Z",
     "start_time": "2024-07-02T23:38:41.190600Z"
    }
   },
   "id": "2d41c21b2c2e2f10",
   "execution_count": 4
  }
 ],
 "metadata": {
  "kernelspec": {
   "display_name": "Python 3",
   "language": "python",
   "name": "python3"
  },
  "language_info": {
   "codemirror_mode": {
    "name": "ipython",
    "version": 2
   },
   "file_extension": ".py",
   "mimetype": "text/x-python",
   "name": "python",
   "nbconvert_exporter": "python",
   "pygments_lexer": "ipython2",
   "version": "2.7.6"
  }
 },
 "nbformat": 4,
 "nbformat_minor": 5
}
