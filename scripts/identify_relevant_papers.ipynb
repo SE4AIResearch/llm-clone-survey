{
 "cells": [
  {
   "cell_type": "markdown",
   "source": [
    "# Use TF-IDF to identify (possibly) irrelevant papers"
   ],
   "metadata": {
    "collapsed": false
   },
   "id": "4587112add231c70"
  },
  {
   "cell_type": "code",
   "outputs": [
    {
     "data": {
      "text/plain": "       id                                              title  \\\n3      30  So What’s the Plan? Mining Strategic Planning ...   \n7      38                  Prolog: Past, Present, and Future   \n6      37  Reflections on Automation, Learnability and Ex...   \n37     90  1 \\(^{st}\\) Workshop on Information Retrieval ...   \n60    131      Understanding ChatGPT’s Underlying Technology   \n..    ...                                                ...   \n735  1324  Developing a deep learning natural language pr...   \n720  1277  Continuous agile cyber–physical systems archit...   \n231   416  MASCARA : Systematically Generating Memorable ...   \n305   532  “They only care to show us the wheelchair”: di...   \n86    190  Exploratory study on the potential of ChatGPT ...   \n\n                                              abstract          source  \\\n3                                                 None        springer   \n7                                                 None        springer   \n6                                                 None        springer   \n37                                                None        springer   \n60                                                None        springer   \n..                                                 ...             ...   \n735  The detection of adverse drug reactions (ADRs)...  science_direct   \n720  Modern cyber-physical systems, for the most pa...  science_direct   \n231  Passwords are the most common mechanism for au...             acm   \n305  This paper reports on disability representatio...             acm   \n86                                                None        springer   \n\n                                         combined_text  \n3    So What’s the Plan? Mining Strategic Planning ...  \n7                   Prolog: Past, Present, and Future   \n6    Reflections on Automation, Learnability and Ex...  \n37   1 \\(^{st}\\) Workshop on Information Retrieval ...  \n60      Understanding ChatGPT’s Underlying Technology   \n..                                                 ...  \n735  Developing a deep learning natural language pr...  \n720  Continuous agile cyber–physical systems archit...  \n231  MASCARA : Systematically Generating Memorable ...  \n305  “They only care to show us the wheelchair”: di...  \n86   Exploratory study on the potential of ChatGPT ...  \n\n[66 rows x 5 columns]",
      "text/html": "<div>\n<style scoped>\n    .dataframe tbody tr th:only-of-type {\n        vertical-align: middle;\n    }\n\n    .dataframe tbody tr th {\n        vertical-align: top;\n    }\n\n    .dataframe thead th {\n        text-align: right;\n    }\n</style>\n<table border=\"1\" class=\"dataframe\">\n  <thead>\n    <tr style=\"text-align: right;\">\n      <th></th>\n      <th>id</th>\n      <th>title</th>\n      <th>abstract</th>\n      <th>source</th>\n      <th>combined_text</th>\n    </tr>\n  </thead>\n  <tbody>\n    <tr>\n      <th>3</th>\n      <td>30</td>\n      <td>So What’s the Plan? Mining Strategic Planning ...</td>\n      <td>None</td>\n      <td>springer</td>\n      <td>So What’s the Plan? Mining Strategic Planning ...</td>\n    </tr>\n    <tr>\n      <th>7</th>\n      <td>38</td>\n      <td>Prolog: Past, Present, and Future</td>\n      <td>None</td>\n      <td>springer</td>\n      <td>Prolog: Past, Present, and Future</td>\n    </tr>\n    <tr>\n      <th>6</th>\n      <td>37</td>\n      <td>Reflections on Automation, Learnability and Ex...</td>\n      <td>None</td>\n      <td>springer</td>\n      <td>Reflections on Automation, Learnability and Ex...</td>\n    </tr>\n    <tr>\n      <th>37</th>\n      <td>90</td>\n      <td>1 \\(^{st}\\) Workshop on Information Retrieval ...</td>\n      <td>None</td>\n      <td>springer</td>\n      <td>1 \\(^{st}\\) Workshop on Information Retrieval ...</td>\n    </tr>\n    <tr>\n      <th>60</th>\n      <td>131</td>\n      <td>Understanding ChatGPT’s Underlying Technology</td>\n      <td>None</td>\n      <td>springer</td>\n      <td>Understanding ChatGPT’s Underlying Technology</td>\n    </tr>\n    <tr>\n      <th>...</th>\n      <td>...</td>\n      <td>...</td>\n      <td>...</td>\n      <td>...</td>\n      <td>...</td>\n    </tr>\n    <tr>\n      <th>735</th>\n      <td>1324</td>\n      <td>Developing a deep learning natural language pr...</td>\n      <td>The detection of adverse drug reactions (ADRs)...</td>\n      <td>science_direct</td>\n      <td>Developing a deep learning natural language pr...</td>\n    </tr>\n    <tr>\n      <th>720</th>\n      <td>1277</td>\n      <td>Continuous agile cyber–physical systems archit...</td>\n      <td>Modern cyber-physical systems, for the most pa...</td>\n      <td>science_direct</td>\n      <td>Continuous agile cyber–physical systems archit...</td>\n    </tr>\n    <tr>\n      <th>231</th>\n      <td>416</td>\n      <td>MASCARA : Systematically Generating Memorable ...</td>\n      <td>Passwords are the most common mechanism for au...</td>\n      <td>acm</td>\n      <td>MASCARA : Systematically Generating Memorable ...</td>\n    </tr>\n    <tr>\n      <th>305</th>\n      <td>532</td>\n      <td>“They only care to show us the wheelchair”: di...</td>\n      <td>This paper reports on disability representatio...</td>\n      <td>acm</td>\n      <td>“They only care to show us the wheelchair”: di...</td>\n    </tr>\n    <tr>\n      <th>86</th>\n      <td>190</td>\n      <td>Exploratory study on the potential of ChatGPT ...</td>\n      <td>None</td>\n      <td>springer</td>\n      <td>Exploratory study on the potential of ChatGPT ...</td>\n    </tr>\n  </tbody>\n</table>\n<p>66 rows × 5 columns</p>\n</div>"
     },
     "execution_count": 33,
     "metadata": {},
     "output_type": "execute_result"
    }
   ],
   "source": [
    "import sqlite3\n",
    "from sklearn.feature_extraction.text import TfidfVectorizer\n",
    "from sklearn.metrics.pairwise import cosine_similarity\n",
    "import pandas as pd\n",
    "\n",
    "# Load the CSV file\n",
    "# Connect to the SQLite database\n",
    "conn = sqlite3.connect('../../coding_website/db_llm_education_survey.sqlite3')\n",
    "\n",
    "# Create a cursor object\n",
    "cursor = conn.cursor()\n",
    "\n",
    "# Execute a SQL query\n",
    "cursor.execute('SELECT llm_education_survey_paper.id, title, abstract, source FROM llm_education_survey_paper JOIN '\n",
    "               'llm_education_survey_analysis ON llm_education_survey_paper.id = llm_education_survey_analysis.paper_id '\n",
    "               'WHERE is_relevant IS NULL AND user_id = \"1\"')\n",
    "\n",
    "# fetch all the results in a data frame\n",
    "rows = cursor.fetchall()\n",
    "df = pd.DataFrame(rows, columns=['id', 'title','abstract', 'source'])\n",
    "\n",
    "# Combine relevant text columns for vectorization\n",
    "df['combined_text'] = df[['title', 'abstract']].fillna('').apply(lambda row: ' '.join(row.values.astype(str)), axis=1)\n",
    "\n",
    "# Define query related to LLMs and CS education\n",
    "query = \"Large Language Models and machine learning applied to Computer Science education and teaching. Pedagogies and methodologies for teaching computer science students using LLMs.\"\n",
    "\n",
    "# Vectorize the text data\n",
    "vectorizer = TfidfVectorizer(stop_words='english')\n",
    "tfidf_matrix = vectorizer.fit_transform(df['combined_text'])\n",
    "query_vec = vectorizer.transform([query])\n",
    "\n",
    "# Calculate cosine similarity between the query and all documents\n",
    "cosine_similarities = cosine_similarity(query_vec, tfidf_matrix).flatten()\n",
    "\n",
    "# Get top N relevant papers\n",
    "N = 500\n",
    "top_n_indices = cosine_similarities.argsort()[-N:][::-1]\n",
    "relevant_papers = df.iloc[top_n_indices]\n",
    "\n",
    "# get least relevant papers\n",
    "least_n_indices = cosine_similarities.argsort()[:100]\n",
    "\n",
    "# Display the relevant papers\n",
    "\n",
    "\n",
    "# \n",
    "least_relevant_papers = df.iloc[least_n_indices]\n",
    "# exclude papers with terms like \"call for papers\" or \"conference\"\n",
    "least_relevant_papers = least_relevant_papers[~least_relevant_papers['combined_text'].str.contains('teach|student|educat|pedagog|classroom|course|CS1', case=False)]\n",
    "\n",
    "\n",
    "least_relevant_papers\n"
   ],
   "metadata": {
    "collapsed": false,
    "ExecuteTime": {
     "end_time": "2024-07-03T16:08:35.165194Z",
     "start_time": "2024-07-03T16:08:34.632610Z"
    }
   },
   "id": "5e3de2e8ea86bb15",
   "execution_count": 33
  },
  {
   "cell_type": "markdown",
   "source": [
    "# Export all papers to CSV"
   ],
   "metadata": {
    "collapsed": false
   },
   "id": "9e7fce703b23625e"
  },
  {
   "cell_type": "code",
   "outputs": [],
   "source": [
    "# Create a cursor object\n",
    "cursor = conn.cursor()\n",
    "\n",
    "# Execute a SQL query\n",
    "cursor.execute('SELECT llm_education_survey_paper.id, title, abstract, source, is_relevant FROM llm_education_survey_paper JOIN '\n",
    "               'llm_education_survey_analysis ON llm_education_survey_paper.id = llm_education_survey_analysis.paper_id '\n",
    "               'WHERE user_id = \"1\"')\n",
    "\n",
    "# fetch all the results in a data frame\n",
    "df_all = pd.DataFrame(cursor.fetchall(), columns=['id', 'title','abstract', 'source', 'is_relevant'])\n",
    "# change data type of is_relevant to string\n",
    "df_all['is_relevant'] = df_all['is_relevant'].astype(str)\n",
    "# fill na as empty string\n",
    "\n",
    "df_all.to_csv('../data/stage1_all_papers.csv', index=False)\n"
   ],
   "metadata": {
    "collapsed": false,
    "ExecuteTime": {
     "end_time": "2024-07-03T15:55:21.532752Z",
     "start_time": "2024-07-03T15:55:21.468562Z"
    }
   },
   "id": "24864b35e654fed7",
   "execution_count": 32
  }
 ],
 "metadata": {
  "kernelspec": {
   "display_name": "Python 3",
   "language": "python",
   "name": "python3"
  },
  "language_info": {
   "codemirror_mode": {
    "name": "ipython",
    "version": 2
   },
   "file_extension": ".py",
   "mimetype": "text/x-python",
   "name": "python",
   "nbconvert_exporter": "python",
   "pygments_lexer": "ipython2",
   "version": "2.7.6"
  }
 },
 "nbformat": 4,
 "nbformat_minor": 5
}
