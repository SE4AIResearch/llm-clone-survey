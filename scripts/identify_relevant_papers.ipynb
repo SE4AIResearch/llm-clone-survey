{
 "cells": [
  {
   "cell_type": "code",
   "execution_count": null,
   "id": "initial_id",
   "metadata": {
    "collapsed": true
   },
   "outputs": [],
   "source": []
  },
  {
   "cell_type": "code",
   "outputs": [
    {
     "data": {
      "text/plain": "        id                                              title  \\\n10      27         The Practical Concepts of Machine Learning   \n931    970  Red teaming ChatGPT via Jailbreaking: Bias, Ro...   \n935    974  Capabilities of GPT-4 on Medical Challenge Pro...   \n936    975  GPT is becoming a Turing machine: Here are som...   \n937    976  Advances in apparent conceptual physics reason...   \n...    ...                                                ...   \n1362  1464  An era of ChatGPT as a significant futuristic ...   \n145    178  Chatgpt for cybersecurity: practical applicati...   \n147    180  To resist it or to embrace it? Examining ChatG...   \n149    182                  Editorial for EAIT issue 12, 2023   \n150    183  The impact of ChatGPT on L2 writing and expect...   \n\n                                                    url  \\\n10    https://link.springer.com/chapter/10.1007/978-...   \n931               http://arxiv.org/pdf/2301.12867v4.pdf   \n935               http://arxiv.org/pdf/2303.13375v2.pdf   \n936               http://arxiv.org/pdf/2303.14310v1.pdf   \n937               http://arxiv.org/pdf/2303.17012v3.pdf   \n...                                                 ...   \n1362  https://www.sciencedirect.com/science/article/...   \n145   https://link.springer.com/article/10.1007/s105...   \n147   https://link.springer.com/article/10.1007/s106...   \n149   https://link.springer.com/article/10.1007/s106...   \n150   https://link.springer.com/article/10.1007/s106...   \n\n                                               doi          source  year  \\\n10                     10.1007/978-1-4842-9801-5_2        springer  2024   \n931                      10.48550/arXiv.2301.12867           arxiv  2023   \n935                      10.48550/arXiv.2303.13375           arxiv  2023   \n936                      10.48550/arXiv.2303.14310           arxiv  2023   \n937                      10.48550/arXiv.2303.17012           arxiv  2023   \n...                                            ...             ...   ...   \n1362  https://doi.org/10.1016/j.tbench.2023.100089  science_direct  2022   \n145                     10.1007/s10586-023-04124-5        springer  2023   \n147                     10.1007/s10639-023-12146-0        springer  2023   \n149                     10.1007/s10639-023-12367-3        springer  2023   \n150                     10.1007/s10639-023-12397-x        springer  2023   \n\n                                                 bibtex abstract  \\\n10     @inbook{Kashyap_2023, title={The Practical Co...      NaN   \n931   @misc{https://doi.org/10.48550/arxiv.2301.1286...      NaN   \n935   @misc{https://doi.org/10.48550/arxiv.2303.1337...      NaN   \n936   @misc{https://doi.org/10.48550/arxiv.2303.1431...      NaN   \n937   @misc{https://doi.org/10.48550/arxiv.2303.1701...      NaN   \n...                                                 ...      ...   \n1362  @article{HALEEM2022100089,\\ntitle = {An era of...      NaN   \n145    @article{Al_Hawawreh_2023, title={Chatgpt for...      NaN   \n147    @article{Guo_2023, title={To resist it or to ...      NaN   \n149    @article{Tatnall_2023, title={Editorial for E...      NaN   \n150    @article{Zou_2023, title={The impact of ChatG...      NaN   \n\n                                          combined_text  \n10          The Practical Concepts of Machine Learning   \n931   Red teaming ChatGPT via Jailbreaking: Bias, Ro...  \n935   Capabilities of GPT-4 on Medical Challenge Pro...  \n936   GPT is becoming a Turing machine: Here are som...  \n937   Advances in apparent conceptual physics reason...  \n...                                                 ...  \n1362  An era of ChatGPT as a significant futuristic ...  \n145   Chatgpt for cybersecurity: practical applicati...  \n147   To resist it or to embrace it? Examining ChatG...  \n149                  Editorial for EAIT issue 12, 2023   \n150   The impact of ChatGPT on L2 writing and expect...  \n\n[100 rows x 9 columns]",
      "text/html": "<div>\n<style scoped>\n    .dataframe tbody tr th:only-of-type {\n        vertical-align: middle;\n    }\n\n    .dataframe tbody tr th {\n        vertical-align: top;\n    }\n\n    .dataframe thead th {\n        text-align: right;\n    }\n</style>\n<table border=\"1\" class=\"dataframe\">\n  <thead>\n    <tr style=\"text-align: right;\">\n      <th></th>\n      <th>id</th>\n      <th>title</th>\n      <th>url</th>\n      <th>doi</th>\n      <th>source</th>\n      <th>year</th>\n      <th>bibtex</th>\n      <th>abstract</th>\n      <th>combined_text</th>\n    </tr>\n  </thead>\n  <tbody>\n    <tr>\n      <th>10</th>\n      <td>27</td>\n      <td>The Practical Concepts of Machine Learning</td>\n      <td>https://link.springer.com/chapter/10.1007/978-...</td>\n      <td>10.1007/978-1-4842-9801-5_2</td>\n      <td>springer</td>\n      <td>2024</td>\n      <td>@inbook{Kashyap_2023, title={The Practical Co...</td>\n      <td>NaN</td>\n      <td>The Practical Concepts of Machine Learning</td>\n    </tr>\n    <tr>\n      <th>931</th>\n      <td>970</td>\n      <td>Red teaming ChatGPT via Jailbreaking: Bias, Ro...</td>\n      <td>http://arxiv.org/pdf/2301.12867v4.pdf</td>\n      <td>10.48550/arXiv.2301.12867</td>\n      <td>arxiv</td>\n      <td>2023</td>\n      <td>@misc{https://doi.org/10.48550/arxiv.2301.1286...</td>\n      <td>NaN</td>\n      <td>Red teaming ChatGPT via Jailbreaking: Bias, Ro...</td>\n    </tr>\n    <tr>\n      <th>935</th>\n      <td>974</td>\n      <td>Capabilities of GPT-4 on Medical Challenge Pro...</td>\n      <td>http://arxiv.org/pdf/2303.13375v2.pdf</td>\n      <td>10.48550/arXiv.2303.13375</td>\n      <td>arxiv</td>\n      <td>2023</td>\n      <td>@misc{https://doi.org/10.48550/arxiv.2303.1337...</td>\n      <td>NaN</td>\n      <td>Capabilities of GPT-4 on Medical Challenge Pro...</td>\n    </tr>\n    <tr>\n      <th>936</th>\n      <td>975</td>\n      <td>GPT is becoming a Turing machine: Here are som...</td>\n      <td>http://arxiv.org/pdf/2303.14310v1.pdf</td>\n      <td>10.48550/arXiv.2303.14310</td>\n      <td>arxiv</td>\n      <td>2023</td>\n      <td>@misc{https://doi.org/10.48550/arxiv.2303.1431...</td>\n      <td>NaN</td>\n      <td>GPT is becoming a Turing machine: Here are som...</td>\n    </tr>\n    <tr>\n      <th>937</th>\n      <td>976</td>\n      <td>Advances in apparent conceptual physics reason...</td>\n      <td>http://arxiv.org/pdf/2303.17012v3.pdf</td>\n      <td>10.48550/arXiv.2303.17012</td>\n      <td>arxiv</td>\n      <td>2023</td>\n      <td>@misc{https://doi.org/10.48550/arxiv.2303.1701...</td>\n      <td>NaN</td>\n      <td>Advances in apparent conceptual physics reason...</td>\n    </tr>\n    <tr>\n      <th>...</th>\n      <td>...</td>\n      <td>...</td>\n      <td>...</td>\n      <td>...</td>\n      <td>...</td>\n      <td>...</td>\n      <td>...</td>\n      <td>...</td>\n      <td>...</td>\n    </tr>\n    <tr>\n      <th>1362</th>\n      <td>1464</td>\n      <td>An era of ChatGPT as a significant futuristic ...</td>\n      <td>https://www.sciencedirect.com/science/article/...</td>\n      <td>https://doi.org/10.1016/j.tbench.2023.100089</td>\n      <td>science_direct</td>\n      <td>2022</td>\n      <td>@article{HALEEM2022100089,\\ntitle = {An era of...</td>\n      <td>NaN</td>\n      <td>An era of ChatGPT as a significant futuristic ...</td>\n    </tr>\n    <tr>\n      <th>145</th>\n      <td>178</td>\n      <td>Chatgpt for cybersecurity: practical applicati...</td>\n      <td>https://link.springer.com/article/10.1007/s105...</td>\n      <td>10.1007/s10586-023-04124-5</td>\n      <td>springer</td>\n      <td>2023</td>\n      <td>@article{Al_Hawawreh_2023, title={Chatgpt for...</td>\n      <td>NaN</td>\n      <td>Chatgpt for cybersecurity: practical applicati...</td>\n    </tr>\n    <tr>\n      <th>147</th>\n      <td>180</td>\n      <td>To resist it or to embrace it? Examining ChatG...</td>\n      <td>https://link.springer.com/article/10.1007/s106...</td>\n      <td>10.1007/s10639-023-12146-0</td>\n      <td>springer</td>\n      <td>2023</td>\n      <td>@article{Guo_2023, title={To resist it or to ...</td>\n      <td>NaN</td>\n      <td>To resist it or to embrace it? Examining ChatG...</td>\n    </tr>\n    <tr>\n      <th>149</th>\n      <td>182</td>\n      <td>Editorial for EAIT issue 12, 2023</td>\n      <td>https://link.springer.com/article/10.1007/s106...</td>\n      <td>10.1007/s10639-023-12367-3</td>\n      <td>springer</td>\n      <td>2023</td>\n      <td>@article{Tatnall_2023, title={Editorial for E...</td>\n      <td>NaN</td>\n      <td>Editorial for EAIT issue 12, 2023</td>\n    </tr>\n    <tr>\n      <th>150</th>\n      <td>183</td>\n      <td>The impact of ChatGPT on L2 writing and expect...</td>\n      <td>https://link.springer.com/article/10.1007/s106...</td>\n      <td>10.1007/s10639-023-12397-x</td>\n      <td>springer</td>\n      <td>2023</td>\n      <td>@article{Zou_2023, title={The impact of ChatG...</td>\n      <td>NaN</td>\n      <td>The impact of ChatGPT on L2 writing and expect...</td>\n    </tr>\n  </tbody>\n</table>\n<p>100 rows × 9 columns</p>\n</div>"
     },
     "execution_count": 6,
     "metadata": {},
     "output_type": "execute_result"
    }
   ],
   "source": [
    "from sklearn.feature_extraction.text import TfidfVectorizer\n",
    "from sklearn.metrics.pairwise import cosine_similarity\n",
    "import pandas as pd\n",
    "\n",
    "# Load the CSV file\n",
    "file_path = '../results/llm_education_survey_paper_after_2019.csv'\n",
    "df = pd.read_csv(file_path)\n",
    "\n",
    "# Display the first few rows of the DataFrame to understand its structure\n",
    "df.head()\n",
    "\n",
    "# Combine relevant text columns for vectorization\n",
    "df['combined_text'] = df[['title', 'abstract']].fillna('').apply(lambda row: ' '.join(row.values.astype(str)), axis=1)\n",
    "\n",
    "# Define query related to LLMs and CS education\n",
    "query = \"Large Language Models applied to Computer Science education and teaching\"\n",
    "\n",
    "# Vectorize the text data\n",
    "vectorizer = TfidfVectorizer(stop_words='english')\n",
    "tfidf_matrix = vectorizer.fit_transform(df['combined_text'])\n",
    "query_vec = vectorizer.transform([query])\n",
    "\n",
    "# Calculate cosine similarity between the query and all documents\n",
    "cosine_similarities = cosine_similarity(query_vec, tfidf_matrix).flatten()\n",
    "\n",
    "# Get top N relevant papers\n",
    "N = 100\n",
    "top_n_indices = cosine_similarities.argsort()[-N:][::-1]\n",
    "relevant_papers = df.iloc[top_n_indices]\n",
    "\n",
    "# get least relevant papers\n",
    "least_n_indices = cosine_similarities.argsort()[:N]\n",
    "\n",
    "# Display the relevant papers\n",
    "relevant_papers\n",
    "\n",
    "# \n",
    "least_relevant_papers = df.iloc[least_n_indices]\n",
    "least_relevant_papers\n"
   ],
   "metadata": {
    "collapsed": false,
    "ExecuteTime": {
     "end_time": "2024-07-02T22:56:31.669855Z",
     "start_time": "2024-07-02T22:56:31.571110Z"
    }
   },
   "id": "5e3de2e8ea86bb15",
   "execution_count": 6
  }
 ],
 "metadata": {
  "kernelspec": {
   "display_name": "Python 3",
   "language": "python",
   "name": "python3"
  },
  "language_info": {
   "codemirror_mode": {
    "name": "ipython",
    "version": 2
   },
   "file_extension": ".py",
   "mimetype": "text/x-python",
   "name": "python",
   "nbconvert_exporter": "python",
   "pygments_lexer": "ipython2",
   "version": "2.7.6"
  }
 },
 "nbformat": 4,
 "nbformat_minor": 5
}
