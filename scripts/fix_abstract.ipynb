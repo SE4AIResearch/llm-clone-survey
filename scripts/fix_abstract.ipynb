{
 "cells": [
  {
   "cell_type": "markdown",
   "source": [
    "# Add the abstract\n",
    "THE abstract is missing in the database. We need to add the abstract to the database."
   ],
   "metadata": {
    "collapsed": false
   },
   "id": "225dde3e0dd1cd98"
  },
  {
   "cell_type": "code",
   "outputs": [
    {
     "name": "stdout",
     "output_type": "stream",
     "text": [
      "Database update complete.\n"
     ]
    }
   ],
   "source": [
    "import sqlite3\n",
    "import pandas as pd\n",
    "\n",
    "# Connect to the SQLite database\n",
    "conn = sqlite3.connect('../../coding_website/db_llm_education_survey.sqlite3')\n",
    "cursor = conn.cursor()\n",
    "\n",
    "# Load the CSV file into a DataFrame\n",
    "df = pd.read_csv(\"../results/llm_education_survey_paper_after_2019.csv\")\n",
    "\n",
    "# Loop through the DataFrame and update the abstracts in the database\n",
    "for index, row in df.iterrows():\n",
    "    doi = row['doi']\n",
    "    abstract = row['abstract']\n",
    "    if pd.isnull(abstract):\n",
    "        continue\n",
    "    if \"No abstract available\" in abstract:\n",
    "        continue\n",
    "    # Update the abstract for the matching DOI\n",
    "    cursor.execute('''\n",
    "        UPDATE llm_education_survey_paper\n",
    "        SET abstract = ?\n",
    "        WHERE doi = ?\n",
    "    ''', (abstract, doi))\n",
    "\n",
    "# Commit the changes and close the connection\n",
    "conn.commit()\n",
    "conn.close()\n",
    "\n",
    "print(\"Database update complete.\")\n"
   ],
   "metadata": {
    "collapsed": false,
    "ExecuteTime": {
     "end_time": "2024-07-03T01:48:08.328236Z",
     "start_time": "2024-07-03T01:48:03.280441Z"
    }
   },
   "id": "e6346ea113d46002",
   "execution_count": 2
  }
 ],
 "metadata": {
  "kernelspec": {
   "display_name": "Python 3",
   "language": "python",
   "name": "python3"
  },
  "language_info": {
   "codemirror_mode": {
    "name": "ipython",
    "version": 2
   },
   "file_extension": ".py",
   "mimetype": "text/x-python",
   "name": "python",
   "nbconvert_exporter": "python",
   "pygments_lexer": "ipython2",
   "version": "2.7.6"
  }
 },
 "nbformat": 4,
 "nbformat_minor": 5
}
